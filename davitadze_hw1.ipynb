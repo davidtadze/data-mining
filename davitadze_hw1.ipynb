{
 "cells": [
  {
   "cell_type": "markdown",
   "metadata": {},
   "source": [
    "**Общая информация**\n",
    "\n",
    "**Срок сдачи:** 20 марта 2019, 06:00 <br\\>\n",
    "**Штраф за опоздание:** -1 балл после 06:00 20 марта, -2 балла после 06:00 27 марта, -3 балла после 06:00 3 апреля\n",
    "-4 балла после 06:00 10 апреля\n",
    "\n",
    "При отправлении ДЗ указывайте фамилию в названии файла\n",
    "Присылать ДЗ необходимо в виде ссылки на свой github репозиторий в slack @alkhamush\n",
    "\n",
    "Необходимо в slack скинуть ссылку в личный чат @alkhamush\n",
    "Пример ссылки:\n",
    "https://github.com/stroykova/spheremailru/stroykova_hw1.ipynb \n",
    "\n",
    "\n",
    "Используйте данный Ipython Notebook при оформлении домашнего задания."
   ]
  },
  {
   "cell_type": "markdown",
   "metadata": {},
   "source": [
    "##### Задание 1 (2 баллов)\n",
    "Реализовать KNN в классе MyKNeighborsClassifier (обязательное условие: точность не ниже sklearn реализации)\n",
    "Разберитесь самостоятельно, какая мера расстояния используется в KNeighborsClassifier дефолтно и реализуйте свой алгоритм именно с этой мерой. Самостоятельно разберитесь, как считается score из KNeighborsClassifier и реализуйте аналог в своём классе. Score не должен уступать значению KNN из sklearn\n",
    "\n",
    "###### Задание 2 (2 балла)\n",
    "Добиться скорости работы на fit,  predict и predict_proba сравнимой со sklearn для iris и mnist\n",
    "Для этого используем numpy\n",
    "\n",
    "###### Задание 3 (2 балла)\n",
    "Для iris найдите такой параметр n_neighbors, при котором выдаётся наилучший score. Нарисуйте график зависимости score от n_neighbors\n",
    "\n",
    "###### Задание 4 (3 балла)\n",
    "Добавить algorithm='kd_tree' в реализацию KNN (использовать KDTree из sklearn.neighbors). Добиться скорости работы на fit,  predict и predict_proba сравнимой со sklearn для iris и mnist\n",
    "Для этого используем numpy. Score не должен уступать значению KNN из sklearn\n",
    "\n",
    "###### Задание 5 (1 балла)\n",
    "Описать для чего нужны следующие библиотеки/классы/функции (список будет ниже)\n",
    "\n",
    "**Штрафные баллы:**\n",
    "\n",
    "1. Невыполнение PEP8 -0.5 баллов\n",
    "2. Отсутствие фамилии в имени скрипта (скрипт должен называться по аналогии со stroykova_hw1.ipynb) -0.5 баллов\n",
    "3. Все строчки должны быть выполнены. Нужно, чтобы output команды можно было увидеть уже в git'е. В противном случае -0.5 баллов\n",
    "4. При оформлении ДЗ нужно пользоваться данным файлом в качестве шаблона. Не нужно удалять и видоизменять структуру кода и текст. В противном случае -0.5 баллов\n"
   ]
  },
  {
   "cell_type": "code",
   "execution_count": 102,
   "metadata": {},
   "outputs": [
    {
     "name": "stdout",
     "output_type": "stream",
     "text": [
      "The pycodestyle_magic extension is already loaded. To reload it, use:\n",
      "  %reload_ext pycodestyle_magic\n"
     ]
    }
   ],
   "source": [
    "import numpy as np\n",
    "import matplotlib.pyplot as plt\n",
    "\n",
    "import seaborn as sns\n",
    "from sklearn import datasets\n",
    "from sklearn.base import ClassifierMixin\n",
    "from sklearn.datasets import fetch_mldata\n",
    "from sklearn.neighbors.base import NeighborsBase, KNeighborsMixin, SupervisedIntegerMixin \n",
    "from sklearn.model_selection import train_test_split\n",
    "from sklearn.neighbors import KNeighborsClassifier\n",
    "%load_ext pycodestyle_magic"
   ]
  },
  {
   "cell_type": "code",
   "execution_count": 105,
   "metadata": {},
   "outputs": [],
   "source": [
    "#%%pycodestyle\n",
    "\n",
    "from scipy.spatial.distance import cdist\n",
    "from sklearn.preprocessing import normalize\n",
    "from scipy.stats import mode\n",
    "\n",
    "from scipy.spatial import KDTree\n",
    "\n",
    "class MyKNeighborsClassifier(NeighborsBase, KNeighborsMixin, SupervisedIntegerMixin, ClassifierMixin):\n",
    "    \n",
    "    def __init__(self, n_neighbors, algorithm='brute'):\n",
    "        self.neighbors = n_neighbors\n",
    "        self.algorithm = algorithm\n",
    "    \n",
    "    def fit(self, X, y):\n",
    "        if self.algorithm == 'kd_tree':\n",
    "            self.data = KDTree(X)\n",
    "        else:\n",
    "            self.data = np.array(X)\n",
    "        \n",
    "        self.labels = np.array(y)\n",
    "    \n",
    "    def predict(self, X):\n",
    "        if self.algorithm == 'kd_tree':\n",
    "            neighbors_indexes = self.data.query(X, k=self.neighbors)[1]\n",
    "            \n",
    "        else:\n",
    "            # calculate distances\n",
    "            distances = cdist(X, self.data)\n",
    "            \n",
    "            # make a list of k neighbors targets\n",
    "            neighbors_indexes = np.argpartition(distances, self.neighbors, axis=1)\n",
    "            \n",
    "        k_nearest = self.labels[neighbors_indexes[:, :self.neighbors]]\n",
    "\n",
    "        # return most common values\n",
    "        # numpy changes dtype of k_nearest to \"np.ndarray\" so workaround .astype(type(self.labels[0])\n",
    "        return mode(k_nearest.astype(type(self.labels[0])), axis=1)[0].T\n",
    "    \n",
    "    def predict_proba(self, X):\n",
    "        if self.algorithm == 'kd_tree':\n",
    "            neighbors_indexes = self.data.query(X, k=self.neighbors)[1]\n",
    "            \n",
    "        else:\n",
    "            # calculate distances\n",
    "            distances = cdist(X, self.data)\n",
    "            \n",
    "            # make a list of k neighbors targets\n",
    "            neighbors_indexes = np.argpartition(distances, self.neighbors, axis=1)\n",
    "        \n",
    "        k_nearest = self.labels[neighbors_indexes[:, :self.neighbors]]\n",
    "        \n",
    "        all_classes = np.unique(self.labels)\n",
    "        \n",
    "        classes_for_each_entry = np.empty((X.shape[0], all_classes.shape[0]), dtype = all_classes.dtype)\n",
    "        classes_for_each_entry[:] =  all_classes      \n",
    "        \n",
    "        classes_for_each_entry = np.concatenate([k_nearest, classes_for_each_entry], axis=1)\n",
    "        classes_for_each_entry = classes_for_each_entry.astype(int, casting=\"unsafe\")\n",
    "        counts_for_each_entry = np.apply_along_axis(np.bincount, 1, classes_for_each_entry)\n",
    "            \n",
    "        # normalize before returning\n",
    "        return (counts_for_each_entry - 1) / self.neighbors\n",
    "    \n",
    "    def score(self, X, y):\n",
    "        return (self.predict(X) == y).sum() / y.size"
   ]
  },
  {
   "cell_type": "markdown",
   "metadata": {},
   "source": [
    "**IRIS**"
   ]
  },
  {
   "cell_type": "code",
   "execution_count": 106,
   "metadata": {},
   "outputs": [],
   "source": [
    "iris = datasets.load_iris()"
   ]
  },
  {
   "cell_type": "code",
   "execution_count": 107,
   "metadata": {},
   "outputs": [],
   "source": [
    "X_train, X_test, y_train, y_test = train_test_split(iris.data, iris.target, test_size=0.1, stratify=iris.target)"
   ]
  },
  {
   "cell_type": "code",
   "execution_count": 108,
   "metadata": {},
   "outputs": [],
   "source": [
    "clf = KNeighborsClassifier(n_neighbors=2, algorithm='brute')\n",
    "my_clf = MyKNeighborsClassifier(n_neighbors=2, algorithm='brute')"
   ]
  },
  {
   "cell_type": "code",
   "execution_count": 109,
   "metadata": {},
   "outputs": [
    {
     "name": "stdout",
     "output_type": "stream",
     "text": [
      "CPU times: user 664 µs, sys: 279 µs, total: 943 µs\n",
      "Wall time: 687 µs\n"
     ]
    },
    {
     "data": {
      "text/plain": [
       "KNeighborsClassifier(algorithm='brute', leaf_size=30, metric='minkowski',\n",
       "           metric_params=None, n_jobs=None, n_neighbors=2, p=2,\n",
       "           weights='uniform')"
      ]
     },
     "execution_count": 109,
     "metadata": {},
     "output_type": "execute_result"
    }
   ],
   "source": [
    "%time clf.fit(X_train, y_train)"
   ]
  },
  {
   "cell_type": "code",
   "execution_count": 110,
   "metadata": {},
   "outputs": [
    {
     "name": "stdout",
     "output_type": "stream",
     "text": [
      "CPU times: user 33 µs, sys: 33 µs, total: 66 µs\n",
      "Wall time: 53.2 µs\n"
     ]
    }
   ],
   "source": [
    "%time my_clf.fit(X_train, y_train)"
   ]
  },
  {
   "cell_type": "code",
   "execution_count": 111,
   "metadata": {},
   "outputs": [
    {
     "name": "stdout",
     "output_type": "stream",
     "text": [
      "CPU times: user 2.84 ms, sys: 1.75 ms, total: 4.59 ms\n",
      "Wall time: 3.16 ms\n"
     ]
    },
    {
     "data": {
      "text/plain": [
       "array([1, 0, 1, 0, 0, 2, 1, 2, 2, 1, 0, 0, 1, 1, 2])"
      ]
     },
     "execution_count": 111,
     "metadata": {},
     "output_type": "execute_result"
    }
   ],
   "source": [
    "%time clf.predict(X_test)"
   ]
  },
  {
   "cell_type": "code",
   "execution_count": 112,
   "metadata": {},
   "outputs": [
    {
     "name": "stdout",
     "output_type": "stream",
     "text": [
      "CPU times: user 2.66 ms, sys: 1.96 ms, total: 4.62 ms\n",
      "Wall time: 3.02 ms\n"
     ]
    },
    {
     "data": {
      "text/plain": [
       "array([[1, 0, 1, 0, 0, 2, 1, 2, 2, 1, 0, 0, 1, 1, 2]])"
      ]
     },
     "execution_count": 112,
     "metadata": {},
     "output_type": "execute_result"
    }
   ],
   "source": [
    "%time my_clf.predict(X_test)"
   ]
  },
  {
   "cell_type": "code",
   "execution_count": 113,
   "metadata": {},
   "outputs": [
    {
     "name": "stdout",
     "output_type": "stream",
     "text": [
      "CPU times: user 1.44 ms, sys: 580 µs, total: 2.02 ms\n",
      "Wall time: 1.53 ms\n"
     ]
    },
    {
     "data": {
      "text/plain": [
       "array([[0. , 1. , 0. ],\n",
       "       [1. , 0. , 0. ],\n",
       "       [0. , 1. , 0. ],\n",
       "       [1. , 0. , 0. ],\n",
       "       [1. , 0. , 0. ],\n",
       "       [0. , 0. , 1. ],\n",
       "       [0. , 0.5, 0.5],\n",
       "       [0. , 0. , 1. ],\n",
       "       [0. , 0. , 1. ],\n",
       "       [0. , 1. , 0. ],\n",
       "       [1. , 0. , 0. ],\n",
       "       [1. , 0. , 0. ],\n",
       "       [0. , 1. , 0. ],\n",
       "       [0. , 1. , 0. ],\n",
       "       [0. , 0. , 1. ]])"
      ]
     },
     "execution_count": 113,
     "metadata": {},
     "output_type": "execute_result"
    }
   ],
   "source": [
    "%time clf.predict_proba(X_test)"
   ]
  },
  {
   "cell_type": "code",
   "execution_count": 114,
   "metadata": {},
   "outputs": [
    {
     "name": "stdout",
     "output_type": "stream",
     "text": [
      "CPU times: user 859 µs, sys: 409 µs, total: 1.27 ms\n",
      "Wall time: 950 µs\n"
     ]
    },
    {
     "data": {
      "text/plain": [
       "array([[0. , 1. , 0. ],\n",
       "       [1. , 0. , 0. ],\n",
       "       [0. , 1. , 0. ],\n",
       "       [1. , 0. , 0. ],\n",
       "       [1. , 0. , 0. ],\n",
       "       [0. , 0. , 1. ],\n",
       "       [0. , 0.5, 0.5],\n",
       "       [0. , 0. , 1. ],\n",
       "       [0. , 0. , 1. ],\n",
       "       [0. , 1. , 0. ],\n",
       "       [1. , 0. , 0. ],\n",
       "       [1. , 0. , 0. ],\n",
       "       [0. , 1. , 0. ],\n",
       "       [0. , 1. , 0. ],\n",
       "       [0. , 0. , 1. ]])"
      ]
     },
     "execution_count": 114,
     "metadata": {},
     "output_type": "execute_result"
    }
   ],
   "source": [
    "%time my_clf.predict_proba(X_test)"
   ]
  },
  {
   "cell_type": "code",
   "execution_count": 115,
   "metadata": {},
   "outputs": [
    {
     "data": {
      "text/plain": [
       "0.9333333333333333"
      ]
     },
     "execution_count": 115,
     "metadata": {},
     "output_type": "execute_result"
    }
   ],
   "source": [
    "clf.score(X_test, y_test)"
   ]
  },
  {
   "cell_type": "code",
   "execution_count": 116,
   "metadata": {},
   "outputs": [
    {
     "data": {
      "text/plain": [
       "0.9333333333333333"
      ]
     },
     "execution_count": 116,
     "metadata": {},
     "output_type": "execute_result"
    }
   ],
   "source": [
    "my_clf.score(X_test, y_test)"
   ]
  },
  {
   "cell_type": "markdown",
   "metadata": {},
   "source": [
    "Задание 3"
   ]
  },
  {
   "cell_type": "code",
   "execution_count": 117,
   "metadata": {},
   "outputs": [
    {
     "name": "stdout",
     "output_type": "stream",
     "text": [
      "highest score is at 17 neighbors\n"
     ]
    },
    {
     "data": {
      "image/png": "[encoded data removed]",
      "text/plain": [
       "<Figure size 1008x576 with 1 Axes>"
      ]
     },
     "metadata": {
      "needs_background": "light"
     },
     "output_type": "display_data"
    }
   ],
   "source": [
    "fig = plt.figure(figsize= (14,8))\n",
    "ax = plt.subplot(111)\n",
    "\n",
    "ax.set_xlabel('k_neighbors')\n",
    "ax.set_ylabel('score')\n",
    "\n",
    "neighbors = np.arange(1,X_train.shape[0])\n",
    "scores = []\n",
    "for neighbor in neighbors:\n",
    "    my_clf = MyKNeighborsClassifier(n_neighbors=neighbor, algorithm='brute')\n",
    "    cur_scores = np.empty(10)\n",
    "    \n",
    "    # calculate mean score\n",
    "    fold = 10\n",
    "    for i in range(0, fold):\n",
    "        # handmade k-fold cross validation\n",
    "        X_train, X_test, y_train, y_test = train_test_split(iris.data, iris.target, test_size=0.1, stratify=iris.target)\n",
    "        my_clf.fit(X_train, y_train)\n",
    "        \n",
    "        cur_scores[i] = my_clf.score(X_test, y_test)\n",
    "    \n",
    "    scores.append(cur_scores.mean())\n",
    "\n",
    "plt.plot(neighbors, scores)\n",
    "\n",
    "optimal_n = neighbors[scores.index(max(scores))]\n",
    "print(\"highest score is at %d neighbors\" % optimal_n)"
   ]
  },
  {
   "cell_type": "markdown",
   "metadata": {},
   "source": [
    "**MNIST**"
   ]
  },
  {
   "cell_type": "code",
   "execution_count": 118,
   "metadata": {},
   "outputs": [],
   "source": [
    "from sklearn.datasets import fetch_openml\n",
    "\n",
    "mnist = fetch_openml('mnist_784')"
   ]
  },
  {
   "cell_type": "code",
   "execution_count": 119,
   "metadata": {},
   "outputs": [],
   "source": [
    "X_train, X_test, y_train, y_test = train_test_split(mnist.data, mnist.target, test_size=0.01, stratify=mnist.target)"
   ]
  },
  {
   "cell_type": "code",
   "execution_count": 120,
   "metadata": {},
   "outputs": [],
   "source": [
    "clf = KNeighborsClassifier(n_neighbors=2, algorithm='brute')\n",
    "my_clf = MyKNeighborsClassifier(n_neighbors=2, algorithm='brute')"
   ]
  },
  {
   "cell_type": "code",
   "execution_count": 121,
   "metadata": {},
   "outputs": [
    {
     "name": "stdout",
     "output_type": "stream",
     "text": [
      "CPU times: user 162 ms, sys: 2.33 ms, total: 164 ms\n",
      "Wall time: 162 ms\n"
     ]
    },
    {
     "data": {
      "text/plain": [
       "KNeighborsClassifier(algorithm='brute', leaf_size=30, metric='minkowski',\n",
       "           metric_params=None, n_jobs=None, n_neighbors=2, p=2,\n",
       "           weights='uniform')"
      ]
     },
     "execution_count": 121,
     "metadata": {},
     "output_type": "execute_result"
    }
   ],
   "source": [
    "%time clf.fit(X_train, y_train)"
   ]
  },
  {
   "cell_type": "code",
   "execution_count": 122,
   "metadata": {},
   "outputs": [
    {
     "name": "stdout",
     "output_type": "stream",
     "text": [
      "CPU times: user 146 ms, sys: 134 ms, total: 280 ms\n",
      "Wall time: 280 ms\n"
     ]
    }
   ],
   "source": [
    "%time my_clf.fit(X_train, y_train)"
   ]
  },
  {
   "cell_type": "code",
   "execution_count": 124,
   "metadata": {},
   "outputs": [
    {
     "name": "stdout",
     "output_type": "stream",
     "text": [
      "CPU times: user 4.05 s, sys: 404 ms, total: 4.46 s\n",
      "Wall time: 2.79 s\n"
     ]
    },
    {
     "data": {
      "text/plain": [
       "array(['6', '1', '1', '9', '7', '8', '6', '2', '6', '4', '9', '1', '6',\n",
       "       '2', '5', '8', '8', '3', '0', '7', '9', '0', '5', '9', '0', '1',\n",
       "       '5', '7', '5', '3', '6', '2', '2', '8', '6', '8', '2', '1', '7',\n",
       "       '8', '9', '6', '7', '5', '8', '6', '6', '2', '2', '9', '0', '4',\n",
       "       '0', '9', '6', '4', '6', '9', '6', '7', '5', '5', '0', '0', '6',\n",
       "       '5', '8', '8', '3', '7', '4', '8', '8', '8', '4', '4', '6', '7',\n",
       "       '5', '4', '1', '5', '5', '8', '0', '9', '5', '4', '5', '0', '5',\n",
       "       '3', '1', '7', '1', '7', '9', '8', '2', '9', '9', '5', '7', '1',\n",
       "       '2', '9', '7', '3', '7', '2', '5', '3', '4', '0', '4', '9', '3',\n",
       "       '3', '7', '4', '1', '4', '7', '1', '6', '3', '3', '5', '4', '1',\n",
       "       '3', '4', '9', '4', '4', '8', '3', '7', '5', '2', '3', '7', '0',\n",
       "       '3', '9', '0', '2', '2', '1', '4', '8', '5', '6', '7', '1', '3',\n",
       "       '1', '1', '2', '4', '8', '2', '5', '2', '5', '8', '9', '4', '5',\n",
       "       '8', '2', '4', '2', '3', '6', '3', '8', '2', '3', '6', '3', '5',\n",
       "       '9', '8', '3', '1', '2', '6', '7', '0', '6', '3', '8', '6', '7',\n",
       "       '5', '2', '2', '3', '2', '3', '3', '9', '8', '3', '0', '6', '5',\n",
       "       '2', '3', '0', '3', '2', '8', '3', '9', '9', '0', '3', '2', '0',\n",
       "       '8', '0', '4', '0', '8', '1', '9', '8', '2', '0', '2', '7', '4',\n",
       "       '2', '3', '6', '9', '4', '7', '1', '0', '6', '6', '0', '4', '3',\n",
       "       '1', '5', '1', '1', '2', '5', '2', '1', '3', '1', '9', '8', '5',\n",
       "       '1', '4', '0', '1', '1', '3', '9', '5', '4', '7', '3', '5', '0',\n",
       "       '1', '5', '9', '0', '9', '4', '8', '8', '6', '2', '2', '5', '3',\n",
       "       '3', '2', '3', '1', '4', '3', '0', '0', '6', '6', '4', '4', '0',\n",
       "       '6', '2', '6', '2', '7', '1', '1', '0', '2', '1', '0', '7', '7',\n",
       "       '5', '4', '6', '7', '1', '7', '1', '3', '8', '1', '7', '0', '2',\n",
       "       '5', '8', '7', '5', '0', '0', '0', '0', '3', '2', '5', '6', '6',\n",
       "       '5', '9', '2', '1', '9', '9', '4', '7', '0', '0', '4', '7', '3',\n",
       "       '1', '0', '8', '9', '3', '8', '3', '0', '9', '1', '1', '1', '6',\n",
       "       '1', '7', '3', '9', '0', '7', '0', '6', '3', '4', '4', '8', '5',\n",
       "       '4', '4', '2', '3', '4', '3', '8', '7', '5', '0', '4', '1', '4',\n",
       "       '3', '3', '1', '1', '8', '5', '7', '0', '8', '6', '5', '1', '7',\n",
       "       '2', '2', '7', '7', '5', '8', '9', '8', '4', '4', '1', '9', '3',\n",
       "       '6', '4', '6', '1', '9', '2', '7', '0', '9', '7', '8', '1', '8',\n",
       "       '9', '9', '9', '4', '5', '0', '1', '0', '3', '0', '2', '6', '6',\n",
       "       '6', '5', '8', '0', '6', '6', '6', '9', '0', '9', '3', '2', '9',\n",
       "       '2', '4', '2', '1', '4', '7', '4', '1', '3', '7', '5', '4', '1',\n",
       "       '4', '5', '3', '1', '7', '7', '0', '0', '0', '1', '4', '2', '7',\n",
       "       '2', '0', '4', '1', '0', '9', '4', '8', '2', '2', '1', '6', '5',\n",
       "       '4', '3', '0', '3', '9', '7', '1', '8', '3', '6', '9', '3', '0',\n",
       "       '2', '2', '9', '0', '9', '1', '7', '6', '1', '7', '2', '6', '5',\n",
       "       '7', '2', '0', '7', '7', '8', '6', '6', '1', '1', '1', '8', '7',\n",
       "       '2', '5', '4', '5', '0', '1', '8', '6', '1', '5', '4', '9', '5',\n",
       "       '1', '3', '4', '2', '1', '4', '9', '8', '0', '0', '7', '6', '8',\n",
       "       '9', '9', '3', '6', '4', '4', '9', '0', '7', '7', '6', '9', '1',\n",
       "       '9', '7', '3', '7', '6', '8', '5', '3', '4', '8', '1', '1', '9',\n",
       "       '7', '7', '3', '7', '8', '1', '6', '2', '8', '5', '5', '9', '9',\n",
       "       '3', '7', '4', '1', '8', '1', '1', '6', '1', '7', '4', '0', '9',\n",
       "       '3', '9', '8', '5', '3', '1', '5', '4', '1', '7', '0', '4', '6',\n",
       "       '2', '9', '3', '3', '7', '1', '5', '4', '0', '9', '9', '4', '7',\n",
       "       '1', '8', '7', '6', '0', '8', '3', '8', '8', '2', '0', '8', '4',\n",
       "       '3', '8', '9', '8', '7', '5', '0', '0', '1', '2', '2', '3', '3',\n",
       "       '7', '0', '2', '9', '2', '2', '1', '6', '4', '8', '6', '2', '4',\n",
       "       '9', '8', '4', '6', '7', '1', '8', '2', '4', '5', '1', '0', '6',\n",
       "       '3', '0', '5', '9', '6', '0', '6', '2', '1', '6', '7'],\n",
       "      dtype=object)"
      ]
     },
     "execution_count": 124,
     "metadata": {},
     "output_type": "execute_result"
    }
   ],
   "source": [
    "%time clf.predict(X_test)"
   ]
  },
  {
   "cell_type": "code",
   "execution_count": 123,
   "metadata": {},
   "outputs": [
    {
     "name": "stdout",
     "output_type": "stream",
     "text": [
      "CPU times: user 40.5 s, sys: 1.2 s, total: 41.7 s\n",
      "Wall time: 42.5 s\n"
     ]
    },
    {
     "name": "stderr",
     "output_type": "stream",
     "text": [
      "/usr/local/lib/python3.7/site-packages/scipy/stats/stats.py:248: RuntimeWarning: The input array could not be properly checked for nan values. nan values will be ignored.\n",
      "  \"values. nan values will be ignored.\", RuntimeWarning)\n"
     ]
    },
    {
     "data": {
      "text/plain": [
       "array([['6', '1', '1', '9', '7', '8', '6', '2', '6', '4', '9', '1', '6',\n",
       "        '2', '5', '8', '8', '3', '0', '7', '9', '0', '5', '9', '0', '1',\n",
       "        '5', '7', '5', '3', '6', '2', '2', '8', '6', '8', '2', '1', '7',\n",
       "        '8', '9', '6', '7', '5', '8', '6', '6', '2', '2', '9', '0', '4',\n",
       "        '0', '9', '6', '4', '6', '9', '6', '7', '5', '5', '0', '0', '6',\n",
       "        '5', '8', '8', '3', '7', '4', '8', '8', '8', '4', '4', '6', '7',\n",
       "        '5', '4', '1', '5', '5', '8', '0', '9', '5', '4', '5', '0', '5',\n",
       "        '3', '1', '7', '1', '7', '9', '8', '2', '9', '9', '5', '7', '1',\n",
       "        '2', '9', '7', '3', '7', '2', '5', '3', '4', '0', '4', '9', '3',\n",
       "        '3', '7', '4', '1', '4', '7', '1', '6', '3', '3', '5', '4', '1',\n",
       "        '3', '4', '9', '4', '4', '8', '3', '7', '5', '2', '3', '7', '0',\n",
       "        '3', '9', '0', '2', '2', '1', '4', '8', '5', '6', '7', '1', '3',\n",
       "        '1', '1', '2', '4', '8', '2', '5', '2', '5', '8', '9', '4', '5',\n",
       "        '8', '2', '4', '2', '3', '6', '3', '8', '2', '3', '6', '3', '5',\n",
       "        '9', '8', '3', '1', '2', '6', '7', '0', '6', '3', '8', '6', '7',\n",
       "        '5', '2', '2', '3', '2', '3', '3', '9', '8', '3', '0', '6', '5',\n",
       "        '2', '3', '0', '3', '2', '8', '3', '9', '9', '0', '3', '2', '0',\n",
       "        '8', '0', '4', '0', '8', '1', '9', '8', '2', '0', '2', '7', '4',\n",
       "        '2', '3', '6', '9', '4', '7', '1', '0', '6', '6', '0', '4', '3',\n",
       "        '1', '5', '1', '1', '2', '5', '2', '1', '3', '1', '9', '8', '5',\n",
       "        '1', '4', '0', '1', '1', '3', '9', '5', '4', '7', '3', '5', '0',\n",
       "        '1', '5', '9', '0', '9', '4', '8', '8', '6', '2', '2', '5', '3',\n",
       "        '3', '2', '3', '1', '4', '3', '0', '0', '6', '6', '4', '4', '0',\n",
       "        '6', '2', '6', '2', '7', '1', '1', '0', '2', '1', '0', '7', '7',\n",
       "        '5', '4', '6', '7', '1', '7', '1', '3', '8', '1', '7', '0', '2',\n",
       "        '5', '8', '7', '5', '0', '0', '0', '0', '3', '2', '5', '6', '6',\n",
       "        '5', '9', '2', '1', '9', '9', '4', '7', '0', '0', '4', '7', '3',\n",
       "        '1', '0', '8', '9', '3', '8', '3', '0', '9', '1', '1', '1', '6',\n",
       "        '1', '7', '3', '9', '0', '7', '0', '6', '3', '4', '4', '8', '5',\n",
       "        '4', '4', '2', '3', '4', '3', '8', '7', '5', '0', '4', '1', '4',\n",
       "        '3', '3', '1', '1', '8', '5', '7', '0', '8', '6', '5', '1', '7',\n",
       "        '2', '2', '7', '7', '5', '8', '9', '8', '4', '4', '1', '9', '3',\n",
       "        '6', '4', '6', '1', '9', '2', '7', '0', '9', '7', '8', '1', '8',\n",
       "        '9', '9', '9', '4', '5', '0', '1', '0', '3', '0', '2', '6', '6',\n",
       "        '6', '5', '8', '0', '6', '6', '6', '9', '0', '9', '3', '2', '9',\n",
       "        '2', '4', '2', '1', '4', '7', '4', '1', '3', '7', '5', '4', '1',\n",
       "        '4', '5', '3', '1', '7', '7', '0', '0', '0', '1', '4', '2', '7',\n",
       "        '2', '0', '4', '1', '0', '9', '4', '8', '2', '2', '1', '6', '5',\n",
       "        '4', '3', '0', '3', '9', '7', '1', '8', '3', '6', '9', '3', '0',\n",
       "        '2', '2', '9', '0', '9', '1', '7', '6', '1', '7', '2', '6', '5',\n",
       "        '7', '2', '0', '7', '7', '8', '6', '6', '1', '1', '1', '8', '7',\n",
       "        '2', '5', '4', '5', '0', '1', '8', '6', '1', '5', '4', '9', '5',\n",
       "        '1', '3', '4', '2', '1', '4', '9', '8', '0', '0', '7', '6', '8',\n",
       "        '9', '9', '3', '6', '4', '4', '9', '0', '7', '7', '6', '9', '1',\n",
       "        '9', '7', '3', '7', '6', '8', '5', '3', '4', '8', '1', '1', '9',\n",
       "        '7', '7', '3', '7', '8', '1', '6', '2', '8', '5', '5', '9', '9',\n",
       "        '3', '7', '4', '1', '8', '1', '1', '6', '1', '7', '4', '0', '9',\n",
       "        '3', '9', '8', '5', '3', '1', '5', '4', '1', '7', '0', '4', '6',\n",
       "        '2', '9', '3', '3', '7', '1', '5', '4', '0', '9', '9', '4', '7',\n",
       "        '1', '8', '7', '6', '0', '8', '3', '8', '8', '2', '0', '8', '4',\n",
       "        '3', '8', '9', '8', '7', '5', '0', '0', '1', '2', '2', '3', '3',\n",
       "        '7', '0', '2', '9', '2', '2', '1', '6', '4', '8', '6', '2', '4',\n",
       "        '9', '8', '4', '6', '7', '1', '8', '2', '4', '5', '1', '0', '6',\n",
       "        '3', '0', '5', '9', '6', '0', '6', '2', '1', '6', '7']],\n",
       "      dtype='<U1')"
      ]
     },
     "execution_count": 123,
     "metadata": {},
     "output_type": "execute_result"
    }
   ],
   "source": [
    "%time my_clf.predict(X_test)"
   ]
  },
  {
   "cell_type": "code",
   "execution_count": 125,
   "metadata": {
    "scrolled": true
   },
   "outputs": [
    {
     "name": "stdout",
     "output_type": "stream",
     "text": [
      "CPU times: user 3.28 s, sys: 287 ms, total: 3.56 s\n",
      "Wall time: 2.14 s\n"
     ]
    },
    {
     "data": {
      "text/plain": [
       "array([[0., 0., 0., ..., 0., 0., 0.],\n",
       "       [0., 1., 0., ..., 0., 0., 0.],\n",
       "       [0., 1., 0., ..., 0., 0., 0.],\n",
       "       ...,\n",
       "       [0., 1., 0., ..., 0., 0., 0.],\n",
       "       [0., 0., 0., ..., 0., 0., 0.],\n",
       "       [0., 0., 0., ..., 1., 0., 0.]])"
      ]
     },
     "execution_count": 125,
     "metadata": {},
     "output_type": "execute_result"
    }
   ],
   "source": [
    "%time clf.predict_proba(X_test)"
   ]
  },
  {
   "cell_type": "code",
   "execution_count": 126,
   "metadata": {},
   "outputs": [
    {
     "name": "stdout",
     "output_type": "stream",
     "text": [
      "CPU times: user 38.5 s, sys: 1.07 s, total: 39.6 s\n",
      "Wall time: 40.4 s\n"
     ]
    },
    {
     "data": {
      "text/plain": [
       "array([[0., 0., 0., ..., 0., 0., 0.],\n",
       "       [0., 1., 0., ..., 0., 0., 0.],\n",
       "       [0., 1., 0., ..., 0., 0., 0.],\n",
       "       ...,\n",
       "       [0., 1., 0., ..., 0., 0., 0.],\n",
       "       [0., 0., 0., ..., 0., 0., 0.],\n",
       "       [0., 0., 0., ..., 1., 0., 0.]])"
      ]
     },
     "execution_count": 126,
     "metadata": {},
     "output_type": "execute_result"
    }
   ],
   "source": [
    "%time my_clf.predict_proba(X_test)"
   ]
  },
  {
   "cell_type": "code",
   "execution_count": 127,
   "metadata": {},
   "outputs": [
    {
     "data": {
      "text/plain": [
       "0.9642857142857143"
      ]
     },
     "execution_count": 127,
     "metadata": {},
     "output_type": "execute_result"
    }
   ],
   "source": [
    "clf.score(X_test, y_test)"
   ]
  },
  {
   "cell_type": "code",
   "execution_count": 128,
   "metadata": {},
   "outputs": [
    {
     "name": "stderr",
     "output_type": "stream",
     "text": [
      "/usr/local/lib/python3.7/site-packages/scipy/stats/stats.py:248: RuntimeWarning: The input array could not be properly checked for nan values. nan values will be ignored.\n",
      "  \"values. nan values will be ignored.\", RuntimeWarning)\n"
     ]
    },
    {
     "data": {
      "text/plain": [
       "0.9642857142857143"
      ]
     },
     "execution_count": 128,
     "metadata": {},
     "output_type": "execute_result"
    }
   ],
   "source": [
    "my_clf.score(X_test, y_test)"
   ]
  },
  {
   "cell_type": "markdown",
   "metadata": {},
   "source": [
    "Задание 4"
   ]
  },
  {
   "cell_type": "code",
   "execution_count": 129,
   "metadata": {},
   "outputs": [],
   "source": [
    "clf = KNeighborsClassifier(n_neighbors=2, algorithm='kd_tree')\n",
    "my_clf = MyKNeighborsClassifier(n_neighbors=2, algorithm='kd_tree')"
   ]
  },
  {
   "cell_type": "code",
   "execution_count": 130,
   "metadata": {},
   "outputs": [],
   "source": [
    "X_train, X_test, y_train, y_test = train_test_split(mnist.data, mnist.target, test_size=0.01, stratify=mnist.target)"
   ]
  },
  {
   "cell_type": "code",
   "execution_count": 131,
   "metadata": {},
   "outputs": [
    {
     "name": "stdout",
     "output_type": "stream",
     "text": [
      "CPU times: user 33.1 s, sys: 207 ms, total: 33.3 s\n",
      "Wall time: 33.4 s\n"
     ]
    },
    {
     "data": {
      "text/plain": [
       "KNeighborsClassifier(algorithm='kd_tree', leaf_size=30, metric='minkowski',\n",
       "           metric_params=None, n_jobs=None, n_neighbors=2, p=2,\n",
       "           weights='uniform')"
      ]
     },
     "execution_count": 131,
     "metadata": {},
     "output_type": "execute_result"
    }
   ],
   "source": [
    "%time clf.fit(X_train, y_train)"
   ]
  },
  {
   "cell_type": "code",
   "execution_count": 132,
   "metadata": {},
   "outputs": [
    {
     "name": "stdout",
     "output_type": "stream",
     "text": [
      "CPU times: user 20.9 s, sys: 24 s, total: 44.9 s\n",
      "Wall time: 48.1 s\n"
     ]
    }
   ],
   "source": [
    "%time my_clf.fit(X_train, y_train)"
   ]
  },
  {
   "cell_type": "code",
   "execution_count": 133,
   "metadata": {},
   "outputs": [
    {
     "name": "stdout",
     "output_type": "stream",
     "text": [
      "CPU times: user 54.8 s, sys: 192 ms, total: 55 s\n",
      "Wall time: 55.2 s\n"
     ]
    },
    {
     "data": {
      "text/plain": [
       "array(['1', '4', '1', '2', '2', '0', '8', '5', '9', '7', '1', '5', '3',\n",
       "       '6', '7', '7', '1', '3', '3', '3', '5', '5', '8', '9', '2', '7',\n",
       "       '9', '4', '7', '8', '9', '9', '7', '9', '5', '6', '8', '1', '7',\n",
       "       '1', '9', '6', '1', '4', '1', '9', '8', '2', '5', '3', '7', '9',\n",
       "       '0', '0', '2', '1', '9', '9', '1', '0', '0', '7', '7', '9', '5',\n",
       "       '8', '5', '2', '8', '3', '8', '7', '0', '4', '3', '1', '8', '9',\n",
       "       '5', '1', '1', '5', '9', '9', '8', '2', '8', '3', '2', '5', '2',\n",
       "       '7', '6', '2', '0', '6', '6', '8', '2', '3', '1', '1', '8', '4',\n",
       "       '8', '9', '4', '9', '1', '4', '3', '6', '7', '0', '6', '0', '5',\n",
       "       '8', '5', '7', '9', '7', '3', '2', '3', '8', '4', '2', '7', '2',\n",
       "       '1', '1', '9', '5', '9', '4', '9', '1', '0', '5', '1', '6', '9',\n",
       "       '6', '0', '5', '5', '3', '9', '5', '1', '3', '9', '8', '4', '3',\n",
       "       '7', '2', '4', '4', '3', '2', '2', '8', '1', '9', '7', '8', '1',\n",
       "       '6', '9', '7', '8', '7', '3', '3', '8', '5', '2', '6', '6', '0',\n",
       "       '7', '0', '1', '3', '3', '5', '2', '2', '6', '7', '1', '2', '4',\n",
       "       '9', '3', '8', '9', '4', '2', '6', '0', '6', '5', '2', '2', '4',\n",
       "       '0', '7', '4', '0', '0', '7', '4', '0', '4', '0', '0', '0', '5',\n",
       "       '0', '3', '0', '0', '4', '1', '0', '9', '4', '7', '3', '5', '3',\n",
       "       '6', '9', '1', '3', '9', '2', '6', '2', '4', '5', '6', '8', '1',\n",
       "       '8', '7', '0', '9', '2', '6', '2', '3', '1', '5', '4', '9', '6',\n",
       "       '6', '7', '7', '1', '0', '6', '5', '3', '6', '9', '6', '6', '5',\n",
       "       '3', '5', '3', '0', '1', '0', '4', '0', '6', '8', '1', '8', '4',\n",
       "       '7', '8', '8', '8', '7', '3', '7', '7', '7', '9', '1', '1', '6',\n",
       "       '1', '3', '1', '8', '9', '0', '4', '9', '8', '4', '0', '8', '8',\n",
       "       '6', '1', '5', '5', '7', '1', '5', '8', '1', '1', '2', '6', '1',\n",
       "       '2', '3', '6', '9', '5', '0', '1', '4', '3', '2', '3', '7', '7',\n",
       "       '9', '1', '0', '6', '4', '4', '6', '5', '5', '1', '7', '7', '4',\n",
       "       '8', '3', '0', '6', '4', '2', '3', '2', '8', '3', '6', '0', '5',\n",
       "       '7', '5', '8', '4', '6', '4', '6', '7', '1', '0', '3', '3', '6',\n",
       "       '1', '3', '5', '4', '8', '8', '0', '8', '2', '2', '7', '3', '2',\n",
       "       '8', '9', '4', '9', '7', '1', '1', '4', '7', '9', '0', '4', '5',\n",
       "       '2', '1', '7', '7', '2', '9', '0', '1', '7', '8', '7', '0', '3',\n",
       "       '7', '4', '5', '0', '4', '0', '7', '9', '4', '1', '3', '5', '7',\n",
       "       '7', '4', '6', '9', '7', '5', '1', '6', '9', '4', '2', '2', '7',\n",
       "       '7', '0', '3', '7', '8', '4', '7', '2', '6', '5', '0', '1', '3',\n",
       "       '5', '2', '2', '5', '2', '3', '4', '4', '4', '7', '0', '5', '5',\n",
       "       '1', '9', '3', '7', '3', '0', '0', '8', '9', '1', '6', '3', '0',\n",
       "       '3', '3', '8', '1', '0', '3', '9', '8', '5', '9', '1', '9', '9',\n",
       "       '0', '5', '9', '4', '2', '0', '0', '5', '6', '2', '2', '0', '6',\n",
       "       '5', '0', '1', '3', '4', '8', '3', '2', '4', '3', '2', '1', '4',\n",
       "       '8', '8', '2', '0', '2', '8', '6', '8', '8', '4', '7', '9', '6',\n",
       "       '7', '1', '2', '5', '2', '4', '1', '1', '9', '2', '4', '4', '3',\n",
       "       '3', '9', '2', '5', '8', '9', '1', '7', '1', '6', '0', '3', '6',\n",
       "       '9', '5', '4', '9', '1', '8', '5', '3', '5', '8', '5', '5', '6',\n",
       "       '9', '6', '0', '6', '8', '0', '2', '6', '6', '5', '1', '5', '6',\n",
       "       '2', '6', '8', '8', '2', '7', '3', '5', '2', '4', '6', '1', '7',\n",
       "       '1', '5', '1', '0', '1', '4', '2', '1', '7', '9', '8', '0', '9',\n",
       "       '9', '5', '2', '7', '2', '7', '1', '7', '4', '2', '1', '6', '9',\n",
       "       '4', '8', '2', '9', '3', '4', '4', '0', '8', '0', '0', '3', '6',\n",
       "       '4', '1', '0', '2', '4', '7', '2', '6', '1', '8', '1', '7', '5',\n",
       "       '6', '8', '7', '4', '3', '8', '2', '0', '5', '4', '2', '2', '3',\n",
       "       '0', '6', '0', '7', '1', '0', '5', '3', '3', '7', '9', '7', '0',\n",
       "       '4', '9', '5', '6', '1', '9', '1', '6', '4', '9', '2', '4', '5',\n",
       "       '9', '6', '3', '6', '3', '1', '1', '0', '8', '4', '7'],\n",
       "      dtype=object)"
      ]
     },
     "execution_count": 133,
     "metadata": {},
     "output_type": "execute_result"
    }
   ],
   "source": [
    "%time clf.predict(X_test)"
   ]
  },
  {
   "cell_type": "code",
   "execution_count": 134,
   "metadata": {},
   "outputs": [
    {
     "name": "stdout",
     "output_type": "stream",
     "text": [
      "CPU times: user 21min 17s, sys: 2.07 s, total: 21min 19s\n",
      "Wall time: 21min 20s\n"
     ]
    },
    {
     "name": "stderr",
     "output_type": "stream",
     "text": [
      "/usr/local/lib/python3.7/site-packages/scipy/stats/stats.py:248: RuntimeWarning: The input array could not be properly checked for nan values. nan values will be ignored.\n",
      "  \"values. nan values will be ignored.\", RuntimeWarning)\n"
     ]
    },
    {
     "data": {
      "text/plain": [
       "array([['1', '4', '1', '2', '2', '0', '8', '5', '9', '7', '1', '5', '3',\n",
       "        '6', '7', '7', '1', '3', '3', '3', '5', '5', '8', '9', '2', '7',\n",
       "        '9', '4', '7', '8', '9', '9', '7', '9', '5', '6', '8', '1', '7',\n",
       "        '1', '9', '6', '1', '4', '1', '9', '8', '2', '5', '3', '7', '9',\n",
       "        '0', '0', '2', '1', '9', '9', '1', '0', '0', '7', '7', '9', '5',\n",
       "        '8', '5', '2', '8', '3', '8', '7', '0', '4', '3', '1', '8', '9',\n",
       "        '5', '1', '1', '5', '9', '9', '8', '2', '8', '3', '2', '5', '2',\n",
       "        '7', '6', '2', '0', '6', '6', '8', '2', '3', '1', '1', '8', '4',\n",
       "        '8', '9', '4', '9', '1', '4', '3', '6', '7', '0', '6', '0', '5',\n",
       "        '8', '5', '7', '9', '7', '3', '2', '3', '8', '4', '2', '7', '2',\n",
       "        '1', '1', '9', '5', '9', '4', '9', '1', '0', '5', '1', '6', '9',\n",
       "        '6', '0', '5', '5', '3', '9', '5', '1', '3', '9', '8', '4', '3',\n",
       "        '7', '2', '4', '4', '3', '2', '2', '8', '1', '9', '7', '8', '1',\n",
       "        '6', '9', '7', '8', '7', '3', '3', '8', '5', '2', '6', '6', '0',\n",
       "        '7', '0', '1', '3', '3', '5', '2', '2', '6', '7', '1', '2', '4',\n",
       "        '9', '3', '8', '9', '4', '2', '6', '0', '6', '5', '2', '2', '4',\n",
       "        '0', '7', '4', '0', '0', '7', '4', '0', '4', '0', '0', '0', '5',\n",
       "        '0', '3', '0', '0', '4', '1', '0', '9', '4', '7', '3', '5', '3',\n",
       "        '6', '9', '1', '3', '9', '2', '6', '2', '4', '5', '6', '8', '1',\n",
       "        '8', '7', '0', '9', '2', '6', '2', '3', '1', '5', '4', '9', '6',\n",
       "        '6', '7', '7', '1', '0', '6', '5', '3', '6', '9', '6', '6', '5',\n",
       "        '3', '5', '3', '0', '1', '0', '4', '0', '6', '8', '1', '8', '4',\n",
       "        '7', '8', '8', '8', '7', '3', '7', '7', '7', '9', '1', '1', '6',\n",
       "        '1', '3', '1', '8', '9', '0', '4', '9', '8', '4', '0', '8', '8',\n",
       "        '6', '1', '5', '5', '7', '1', '5', '8', '1', '1', '2', '6', '1',\n",
       "        '2', '3', '6', '9', '5', '0', '1', '4', '3', '2', '3', '7', '7',\n",
       "        '9', '1', '0', '6', '4', '4', '6', '5', '5', '1', '7', '7', '4',\n",
       "        '8', '3', '0', '6', '4', '2', '3', '2', '8', '3', '6', '0', '5',\n",
       "        '7', '5', '8', '4', '6', '4', '6', '7', '1', '0', '3', '3', '6',\n",
       "        '1', '3', '5', '4', '8', '8', '0', '8', '2', '2', '7', '3', '2',\n",
       "        '8', '9', '4', '9', '7', '1', '1', '4', '7', '9', '0', '4', '5',\n",
       "        '2', '1', '7', '7', '2', '9', '0', '1', '7', '8', '7', '0', '3',\n",
       "        '7', '4', '5', '0', '4', '0', '7', '9', '4', '1', '3', '5', '7',\n",
       "        '7', '4', '6', '9', '7', '5', '1', '6', '9', '4', '2', '2', '7',\n",
       "        '7', '0', '3', '7', '8', '4', '7', '2', '6', '5', '0', '1', '3',\n",
       "        '5', '2', '2', '5', '2', '3', '4', '4', '4', '7', '0', '5', '5',\n",
       "        '1', '9', '3', '7', '3', '0', '0', '8', '9', '1', '6', '3', '0',\n",
       "        '3', '3', '8', '1', '0', '3', '9', '8', '5', '9', '1', '9', '9',\n",
       "        '0', '5', '9', '4', '2', '0', '0', '5', '6', '2', '2', '0', '6',\n",
       "        '5', '0', '1', '3', '4', '8', '3', '2', '4', '3', '2', '1', '4',\n",
       "        '8', '8', '2', '0', '2', '8', '6', '8', '8', '4', '7', '9', '6',\n",
       "        '7', '1', '2', '5', '2', '4', '1', '1', '9', '2', '4', '4', '3',\n",
       "        '3', '9', '2', '5', '8', '9', '1', '7', '1', '6', '0', '3', '6',\n",
       "        '9', '5', '4', '9', '1', '8', '5', '3', '5', '8', '5', '5', '6',\n",
       "        '9', '6', '0', '6', '8', '0', '2', '6', '6', '5', '1', '5', '6',\n",
       "        '2', '6', '8', '8', '2', '7', '3', '5', '2', '4', '6', '1', '7',\n",
       "        '1', '5', '1', '0', '1', '4', '2', '1', '7', '9', '8', '0', '9',\n",
       "        '9', '5', '2', '7', '2', '7', '1', '7', '4', '2', '1', '6', '9',\n",
       "        '4', '8', '2', '9', '3', '4', '4', '0', '8', '0', '0', '3', '6',\n",
       "        '4', '1', '0', '2', '4', '7', '2', '6', '1', '8', '1', '7', '5',\n",
       "        '6', '8', '7', '4', '3', '8', '2', '0', '5', '4', '2', '2', '3',\n",
       "        '0', '6', '0', '7', '1', '0', '5', '3', '3', '7', '9', '7', '0',\n",
       "        '4', '9', '5', '6', '1', '9', '1', '6', '4', '9', '2', '4', '5',\n",
       "        '9', '6', '3', '6', '3', '1', '1', '0', '8', '4', '7']],\n",
       "      dtype='<U1')"
      ]
     },
     "execution_count": 134,
     "metadata": {},
     "output_type": "execute_result"
    }
   ],
   "source": [
    "%time my_clf.predict(X_test)"
   ]
  },
  {
   "cell_type": "code",
   "execution_count": 135,
   "metadata": {},
   "outputs": [
    {
     "name": "stdout",
     "output_type": "stream",
     "text": [
      "CPU times: user 54.8 s, sys: 141 ms, total: 54.9 s\n",
      "Wall time: 55.1 s\n"
     ]
    },
    {
     "data": {
      "text/plain": [
       "array([[0., 1., 0., ..., 0., 0., 0.],\n",
       "       [0., 0., 0., ..., 0., 0., 0.],\n",
       "       [0., 1., 0., ..., 0., 0., 0.],\n",
       "       ...,\n",
       "       [0., 0., 0., ..., 0., 1., 0.],\n",
       "       [0., 0., 0., ..., 0., 0., 0.],\n",
       "       [0., 0., 0., ..., 1., 0., 0.]])"
      ]
     },
     "execution_count": 135,
     "metadata": {},
     "output_type": "execute_result"
    }
   ],
   "source": [
    "%time clf.predict_proba(X_test)"
   ]
  },
  {
   "cell_type": "code",
   "execution_count": 136,
   "metadata": {},
   "outputs": [
    {
     "name": "stdout",
     "output_type": "stream",
     "text": [
      "CPU times: user 21min 36s, sys: 3.3 s, total: 21min 40s\n",
      "Wall time: 21min 44s\n"
     ]
    },
    {
     "data": {
      "text/plain": [
       "array([[0., 1., 0., ..., 0., 0., 0.],\n",
       "       [0., 0., 0., ..., 0., 0., 0.],\n",
       "       [0., 1., 0., ..., 0., 0., 0.],\n",
       "       ...,\n",
       "       [0., 0., 0., ..., 0., 1., 0.],\n",
       "       [0., 0., 0., ..., 0., 0., 0.],\n",
       "       [0., 0., 0., ..., 1., 0., 0.]])"
      ]
     },
     "execution_count": 136,
     "metadata": {},
     "output_type": "execute_result"
    }
   ],
   "source": [
    "%time my_clf.predict_proba(X_test)"
   ]
  },
  {
   "cell_type": "code",
   "execution_count": 137,
   "metadata": {},
   "outputs": [
    {
     "data": {
      "text/plain": [
       "0.9757142857142858"
      ]
     },
     "execution_count": 137,
     "metadata": {},
     "output_type": "execute_result"
    }
   ],
   "source": [
    "clf.score(X_test, y_test)"
   ]
  },
  {
   "cell_type": "code",
   "execution_count": 142,
   "metadata": {},
   "outputs": [
    {
     "name": "stderr",
     "output_type": "stream",
     "text": [
      "/usr/local/lib/python3.7/site-packages/scipy/stats/stats.py:248: RuntimeWarning: The input array could not be properly checked for nan values. nan values will be ignored.\n",
      "  \"values. nan values will be ignored.\", RuntimeWarning)\n"
     ]
    },
    {
     "data": {
      "text/plain": [
       "0.9757142857142858"
      ]
     },
     "execution_count": 142,
     "metadata": {},
     "output_type": "execute_result"
    }
   ],
   "source": [
    "my_clf.score(X_test, y_test)"
   ]
  },
  {
   "cell_type": "code",
   "execution_count": null,
   "metadata": {},
   "outputs": [],
   "source": [
    "Задание 5"
   ]
  },
  {
   "cell_type": "code",
   "execution_count": null,
   "metadata": {},
   "outputs": [],
   "source": [
    "# seaborn\n",
    "# outofthebox решение для визуализации данных (основано на matplotlib)\n",
    "\n",
    "# matplotlib\n",
    "# библиотека для визуализации данных и построения графиков\n",
    "\n",
    "# train_test_split\n",
    "# разбивает входные данные на train и test подмножества\n",
    "\n",
    "# Pipelin%load_ext e (from sklearn.pipeline import Pipeline)\n",
    "# нужна для задач, где необходимо последовательно обработать данные различными алгоритмами,\n",
    "# задавая им разные параматры и проверить результаты на кросс валидации\n",
    "\n",
    "# StandardScaler (from sklearn.preprocessing import StandardScaler)\n",
    "# нужен для того чтобы нормировать фичи перед тем как использовать на них алгоритмы\n",
    "# у обработанных данных mean = 0 и standard deviation = 1\n",
    "\n",
    "# ClassifierMixin\n",
    "# mixin класс для скоринговых классов\n",
    "\n",
    "# NeighborsBase\n",
    "# mixin для классов типа k ближайщих соседей\n",
    "\n",
    "# KNeighborsMixin\n",
    "# mixin с brute алгоритмом knn\n",
    "\n",
    "# SupervisedIntegerMixin\n",
    "# mixin проверяет параметры fit и вызывает ee (fit)"
   ]
  },
  {
   "cell_type": "code",
   "execution_count": null,
   "metadata": {},
   "outputs": [],
   "source": []
  }
 ],
 "metadata": {
  "kernelspec": {
   "display_name": "Python 3",
   "language": "python",
   "name": "python3"
  },
  "language_info": {
   "codemirror_mode": {
    "name": "ipython",
    "version": 3
   },
   "file_extension": ".py",
   "mimetype": "text/x-python",
   "name": "python",
   "nbconvert_exporter": "python",
   "pygments_lexer": "ipython3",
   "version": "3.7.2"
  }
 },
 "nbformat": 4,
 "nbformat_minor": 2
}
