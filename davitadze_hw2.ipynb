{
 "cells": [
  {
   "cell_type": "markdown",
   "metadata": {},
   "source": [
    "# Алгоритмы интеллектуальной обработки больших объемов данных\n",
    "## Домашнее задание №3: Линейные модели\n"
   ]
  },
  {
   "cell_type": "markdown",
   "metadata": {},
   "source": [
    "###### <hr\\>\n",
    "**Общая информация**\n",
    "\n",
    "**Срок сдачи:** 8 апреля 2019, 06:00 <br\\>\n",
    "**Штраф за опоздание:** -2 балла после 06:00 8 апреля, -4 балла после 06:00 15 апреля, -6 баллов после 06:00 22 апреля  -8 баллов после 06:00 29 апреля.\n",
    "\n",
    "При отправлении ДЗ указывайте фамилию в названии файла<br\\>\n",
    "\n",
    "Используйте данный Ipython Notebook при оформлении домашнего задания.\n",
    "\n",
    "**Штрафные баллы:**\n",
    "\n",
    "1. Невыполнение PEP8 -1 балл\n",
    "2. Отсутствие фамилии в имени скрипта (скрипт должен называться по аналогии со stroykova_hw2.ipynb) -1 балл\n",
    "3. Все строчки должны быть выполнены. Нужно, чтобы output команды можно было увидеть уже в git'е. В противном случае -1 балл\n",
    "4. При оформлении ДЗ нужно пользоваться данным файлом в качестве шаблона. Не нужно удалять и видоизменять написанный код и текст, если явно не указана такая возможность. В противном случае -1 балл\n",
    "<hr\\>"
   ]
  },
  {
   "cell_type": "code",
   "execution_count": 644,
   "metadata": {},
   "outputs": [],
   "source": [
    "import pandas as pd\n",
    "import numpy as np\n",
    "import matplotlib.pyplot as plt\n",
    "\n",
    "%matplotlib inline\n",
    "\n",
    "plt.style.use('ggplot')\n",
    "plt.rcParams['figure.figsize'] = (12,5)"
   ]
  },
  {
   "cell_type": "markdown",
   "metadata": {},
   "source": [
    "Здравствуйте, уважаемые студенты! \n",
    "\n",
    "В этом задании мы будем реализовать линейные модели. Необходимо реализовать линейную и логистическую регрессии с L2 регуляризацией"
   ]
  },
  {
   "cell_type": "markdown",
   "metadata": {},
   "source": [
    "# Теоретическое введение\n",
    "\n"
   ]
  },
  {
   "cell_type": "markdown",
   "metadata": {},
   "source": [
    "*** Что почитать по теории ***\n",
    "\n",
    "Одна из лучших книг по ML $-$ \"Pattern Recognition and Machine Learning\" Bishop, Christopher. "
   ]
  },
  {
   "cell_type": "markdown",
   "metadata": {},
   "source": [
    "Линейная регрессия решает задачу регрессии и оптимизирует функцию потерь MSE \n",
    "\n",
    "$$L(w) =  \\frac{1}{N}\\left[\\sum_i (y_i - a_i) ^ 2 \\right], $$ где $y_i$ $-$ целевая функция,  $a_i = a(x_i) =  \\langle\\,x_i,w\\rangle ,$ $-$ предсказание алгоритма на объекте $x_i$, $w$ $-$ вектор весов (размерности $D$), $x_i$ $-$ вектор признаков (такой же размерности $D$).\n"
   ]
  },
  {
   "cell_type": "markdown",
   "metadata": {},
   "source": [
    "Логистическая регрессия является линейным классификатором, который оптимизирует так называемый функционал log loss:"
   ]
  },
  {
   "cell_type": "markdown",
   "metadata": {},
   "source": [
    "$$L(w) = - \\frac{1}{N}\\left[\\sum_i y_i \\log a_i + ( 1 - y_i) \\log (1 - a_i) \\right],$$\n",
    "где  $y_i  \\in \\{0,1\\}$ $-$ метка класса, $a_i$ $-$ предсказание алгоритма на объекте $x_i$. Модель пытается предсказать апостериорую вероятность объекта принадлежать к классу \"1\":\n",
    "$$ p(y_i = 1 | x_i) = a(x_i) =  \\sigma( \\langle\\,x_i,w\\rangle ),$$\n",
    "$w$ $-$ вектор весов (размерности $D$), $x_i$ $-$ вектор признаков (такой же размерности $D$).\n",
    "\n",
    "Функция $\\sigma(x)$ $-$ нелинейная функция, пероводящее скалярное произведение объекта на веса в число $\\in (0,1)$ (мы же моделируем вероятность все-таки!)\n",
    "\n",
    "$$\\sigma(x) = \\frac{1}{1 + \\exp(-x)}$$\n",
    "\n",
    "Если внимательно посмотреть на функцию потерь, то можно заметить, что в зависимости от правильного ответа алгоритм штрафуется или функцией $-\\log a_i$, или функцией $-\\log (1 - a_i)$.\n",
    "\n"
   ]
  },
  {
   "cell_type": "markdown",
   "metadata": {},
   "source": [
    "Часто для решения проблем, которые так или иначе связаны с проблемой переобучения, в функционал качества добавляют слагаемое, которое называют ***регуляризацией***. Итоговый функционал для линейной регрессии тогда принимает вид:\n",
    "\n",
    "$$L(w) =  \\frac{1}{N}\\left[\\sum_i (y_i - a_i) ^ 2 \\right] + \\frac{1}{C}R(w) $$\n",
    "\n",
    "Для логистической: \n",
    "$$L(w) = - \\frac{1}{N}\\left[\\sum_i y_i \\log a_i + ( 1 - y_i) \\log (1 - a_i) \\right] +  \\frac{1}{C}R(w)$$\n",
    "\n",
    "Самое понятие регуляризации введено основателем ВМК академиком Тихоновым https://ru.wikipedia.org/wiki/Метод_регуляризации_Тихонова\n",
    "\n",
    "Идейно методика регуляризации заключается в следующем $-$ мы рассматриваем некорректно поставленную задачу (что это такое можно найти в интернете), для того чтобы сузить набор различных вариантов (лучшие из которых будут являться переобучением ) мы вводим дополнительные ограничения на множество искомых решений. На лекции Вы уже рассмотрели два варианта регуляризации.\n",
    "\n",
    "$L1$ регуляризация:\n",
    "$$R(w) = \\sum_{j=1}^{D}|w_j|$$\n",
    "$L2$ регуляризация:\n",
    "$$R(w) =  \\sum_{j=1}^{D}w_j^2$$\n",
    "\n",
    "С их помощью мы ограничиваем модель в  возможности выбора каких угодно весов минимизирующих наш лосс, модель уже не сможет подстроиться под данные как ей угодно. \n",
    "\n",
    "Вам нужно добавить соотвествущую Вашему варианту $L2$ регуляризацию.\n",
    "\n",
    "И так, мы поняли, какую функцию ошибки будем минимизировать, разобрались, как получить предсказания по объекту и обученным весам. Осталось разобраться, как получить оптимальные веса. Для этого нужно выбрать какой-то метод оптимизации.\n",
    "\n"
   ]
  },
  {
   "cell_type": "markdown",
   "metadata": {},
   "source": [
    "Градиентный спуск является самым популярным алгоритмом обучения линейных моделей. В этом задании Вам предложат реализовать стохастический градиентный спуск или  мини-батч градиентный спуск (мини-батч на русский язык довольно сложно перевести, многие переводят это как \"пакетный\", но мне не кажется этот перевод удачным). Далее нам потребуется определение **эпохи**.\n",
    "Эпохой в SGD и MB-GD называется один проход по **всем** объектам в обучающей выборки.\n",
    "* В SGD градиент расчитывается по одному случайному объекту. Сам алгоритм выглядит примерно так:\n",
    "        1) Перемешать выборку\n",
    "        2) Посчитать градиент функции потерь на одном объекте (далее один объект тоже будем называть батчем)\n",
    "        3) Сделать шаг спуска\n",
    "        4) Повторять 2) и 3) пока не пройдет максимальное число эпох.\n",
    "* В Mini Batch SGD - по подвыборке объектов. Сам алгоритм выглядит примерно так::\n",
    "        1) Перемешать выборку, выбрать размер мини-батча (от 1 до размера выборки)\n",
    "        2) Почитать градиент функции потерь по мини-батчу (не забыть поделить на  число объектов в мини-батче)\n",
    "        3) Сделать шаг спуска\n",
    "        4) Повторять 2) и 3) пока не пройдет максимальное число эпох.\n",
    "* Для отладки алгоритма реализуйте возможность  вывода средней ошибки на обучении модели по объектам (мини-батчам). После шага градиентного спуска посчитайте значение ошибки на объекте (или мини-батче), а затем усредните, например, по ста шагам. Если обучение проходит корректно, то мы должны увидеть, что каждые 100 шагов функция потерь уменьшается. \n",
    "* Правило останова - максимальное количество эпох\n",
    "    \n"
   ]
  },
  {
   "cell_type": "markdown",
   "metadata": {},
   "source": [
    "# Теоретические вопросы (2 балла)\n",
    "В этой части Вам будут предложены теоретичские вопросы и задачи по теме. Вы, конечно, можете списать их у своего товарища или найти решение в интернете, но учтите, что они обязательно войдут в теоретический коллоквиум. Лучше разобраться в теме сейчас и успешно ответить на коллоквиуме, чем списать, не разобравшись в материале, и быть терзаемым совестью. \n",
    "\n",
    "\n",
    "Формулы надо оформлять в формате **LaTeX**."
   ]
  },
  {
   "cell_type": "markdown",
   "metadata": {},
   "source": [
    "Задача 1. Градиент для линейной регрессии.\n",
    "* Выпишите формулу обновления весов для линейной регрессии с L2 регуляризацией для мини-батч градиентого спуска размера $n$:\n",
    "\n",
    "$$ w_{new} = w_{old} - ... $$\n",
    "\n",
    " Отнеситесь к этому пункту максимально серьезно, это Вам нужно будет реализовать в задании.\n",
    " \n",
    "Проанализруйте итоговую формулу градиента - как  интуитивно можно  описать, чему равен градиент?"
   ]
  },
  {
   "cell_type": "markdown",
   "metadata": {},
   "source": [
    "***Решение:***\n",
    "\n",
    "Нам нужно найти:\n",
    "\n",
    "$$ w_{new} = w_{old} - \\alpha\\nabla_{\\mathbf{w}}L(w) $$\n",
    "\n",
    "Для линейной регресии с учетом $L2$ регуляризации получаем такой функционал:\n",
    "\n",
    "$$L(w) =  \\frac{1}{N}\\sum_i (x_i \\cdot w - y_i) ^ 2 + \\frac{1}{C}\\sum_{j=1}^{D}w_j^2$$\n",
    "\n",
    "Нам нужен градиент: \n",
    "\n",
    "$$\\nabla_{\\mathbf{w}}L(w) =  \\frac{1}{N}\\sum_i \\nabla_{\\mathbf{w}} (x_i \\cdot w - y_i) ^ 2  + \\frac{1}{C}\\sum_{j=1}^{D} \\nabla_{\\mathbf{w}}w_j^2$$\n",
    "\n",
    "Берем производную, и получаем:\n",
    "\n",
    "$$\\nabla_{\\mathbf{w}}L(w) =  \\frac{1}{N}\\sum_i 2\\cdot(x_i \\cdot w - y_i) \\cdot x_i  + \\frac{2}{C}\\sum_{j=1}^{D} w_j$$\n",
    "\n",
    "Следовательно, итоговая формула:\n",
    "\n",
    "$$ w_{new} = w_{old} - \\alpha\\nabla_{\\mathbf{w}}L(w) $$\n",
    "\n",
    "$$ w_{new} = w_{old} - \\alpha\\left[\\frac{2}{N}\\sum_i (x_i \\cdot w - y_i) \\cdot x_i  + \\frac{2}{C}\\sum_{j=1}^{D} w_j\\right] $$"
   ]
  },
  {
   "cell_type": "markdown",
   "metadata": {},
   "source": [
    "Задача 2. Градиент для логистической регрессии.\n",
    "* Выпишите формулу обновления весов для логистической регрессии с L2 регуляризацией  для мини-батч градиентого спуска размера $n$:\n",
    "\n",
    "$$ w_{new} = w_{old} - ... $$\n",
    "\n",
    " Отнеситесь к этому пункту максимально серьезно, это Вам нужно будет реализовать в задании.\n",
    " \n",
    "Проанализруйте итоговую формулу градиента - как  интуитивно можно  описать, чему равен градиент? Как соотносится этот градиент с градиентом, возникающий в задаче линейной регрессии?"
   ]
  },
  {
   "cell_type": "markdown",
   "metadata": {},
   "source": [
    "***Решение:***\n",
    "\n",
    "Нам нужно найти:\n",
    "\n",
    "$$ w_{new} = w_{old} - \\alpha\\nabla_{\\mathbf{w}}L(w) $$\n",
    "\n",
    "Для логистической регресии с учетом $L2$ регуляризации получаем такой функционал:\n",
    "\n",
    "$$L(w) =  - \\frac{1}{N}\\sum_i \\left[y_i \\log \\frac{1}{1 + \\exp(- x_i \\cdot w)} + ( 1 - y_i) \\log (1 - \\frac{1}{1 + \\exp(- x_i \\cdot w)})\\right] + \\frac{1}{C}\\sum_{j=1}^{D}w_j^2$$\n",
    "\n",
    "$$L(w) =  - \\frac{1}{N}\\sum_i \\left[y_i \\log \\frac{1}{1 + \\exp(- x_i \\cdot w)} + ( 1 - y_i) \\log (\\frac{\\exp(- x_i \\cdot w)}{1 + \\exp(- x_i \\cdot w)})\\right] + \\frac{1}{C}\\sum_{j=1}^{D}w_j^2$$\n",
    "\n",
    "Нам нужен градиент: \n",
    "\n",
    "$$\\nabla_{\\mathbf{w}}L(w) =  - \\frac{1}{N} \\sum_i \\nabla_{\\mathbf{w}} \\left[y_i \\log \\frac{1}{1 + \\exp(- x_i \\cdot w)} + ( 1 - y_i) \\log (\\frac{\\exp(- x_i \\cdot w)}{1 + \\exp(- x_i \\cdot w)})\\right]  + \\frac{1}{C}\\sum_{j=1}^{D} \\nabla_{\\mathbf{w}}w_j^2$$\n",
    "\n",
    "Берем производную, и получаем:\n",
    "\n",
    "$$ \\nabla_{\\mathbf{w}} \\left[ y_i \\log \\frac{1}{1 + \\exp(- x_i \\cdot w)} \\right] =  \\frac{y_i \\cdot x_i}{1 + \\exp(x_i \\cdot w)} $$\n",
    "\n",
    "$$ \\nabla_{\\mathbf{w}} \\left[ ( 1 - y_i) \\log (\\frac{\\exp(- x_i \\cdot w)}{1 + \\exp(- x_i \\cdot w)}) \\right] = \\frac{(y_i - 1) \\cdot x_i \\cdot \\exp(x_i \\cdot w)}{1 + \\exp(x_i \\cdot w)} $$\n",
    "\n",
    "$$ => \\nabla_{\\mathbf{w}}L(w) =  - \\frac{1}{N} \\sum_i \\left[\\frac{y_i \\cdot x_i}{1 + \\exp(x_i \\cdot w)} + \\frac{(y_i - 1) \\cdot x_i \\cdot \\exp(x_i \\cdot w)}{1 + \\exp(x_i \\cdot w)}\\right]  + \\frac{2}{C}\\sum_{j=1}^{D} w_j $$\n",
    "\n",
    "$$ => \\nabla_{\\mathbf{w}}L(w) =  - \\frac{1}{N} \\sum_i \\left[x_i ( \\frac{1}{1 + \\exp(x_i \\cdot w)} + y_i - 1 )\\right]  + \\frac{2}{C}\\sum_{j=1}^{D} w_j $$\n",
    "\n",
    "$$ => \\nabla_{\\mathbf{w}}L(w) =  - \\frac{1}{N} \\sum_i \\left[x_i ( y_i - \\sigma( \\langle\\,x_i,w\\rangle ) )\\right]  + \\frac{2}{C}\\sum_{j=1}^{D} w_j $$\n",
    "\n",
    "Следовательно, итоговая формула:\n",
    "\n",
    "$$ w_{new} = w_{old} - \\alpha\\nabla_{\\mathbf{w}}L(w) $$\n",
    "\n",
    "$$ w_{new} = w_{old} - \\alpha\\left[\\frac{1}{N} \\sum_i x_i (\\sigma( \\langle\\,x_i,w\\rangle ) - y_i )  + \\frac{2}{C}\\sum_{j=1}^{D} w_j\\right] $$"
   ]
  },
  {
   "cell_type": "markdown",
   "metadata": {},
   "source": [
    "Задача 3. Точное решение линейной регрессии\n",
    "\n",
    "На лекции было показано, что точное решение линейной регрессии имеет вид $w = (X^TX)^{-1}X^TY $. \n",
    "* Покажите, что это действительно является точкой минимума в случае, если матрица X имеет строк не меньше, чем столбцов и имеет полный ранг. Подсказка: посчитайте Гессиан и покажите, что в этом случае он положительно определен. \n",
    "* Выпишите точное решение для модели с $L2$ регуляризацией"
   ]
  },
  {
   "cell_type": "markdown",
   "metadata": {},
   "source": [
    "***Решение***\n",
    "\n",
    "* Посчитаем Гессиан\n",
    "\n",
    "$$ \\nabla_{\\mathbf{w}}^2 L (w) = X^t X + \\frac{1}{C} I $$\n",
    "\n",
    "Нужно доказать, что он положительно определен, тогда точное решение линейной регрессии действительно является минимумом:\n",
    "    \n",
    "$$ v^T X^T X v >= 0 $$\n",
    "\n",
    "$$ v^T X^T X v = (Xv)^T. Xv = || X.v ||_2 $$\n",
    "\n",
    "Очевидно, чтд\n",
    "\n",
    "* Точное решение для модели с 𝐿2 регуляризацией:\n",
    "$$ L(w) = (y - Xw)^T (y - Xw) + \\frac{1}{C} w^Tw $$\n",
    "\n",
    "$$ \\nabla_{\\mathbf{w}} ( (y - Xw)^T(y - Xw) + \\frac{1}{C} w^Tw ) = \\\\ = \\nabla_{\\mathbf{w}}((y^Ty -2y^T Xw + w^T X^T X w) + \\frac{1}{C} w^Tw ) = \\\\ = -X^T y + X^T X w + \\frac{1}{C} w $$\n",
    "\n",
    "Итоговая формула:\n",
    "\n",
    "$$ => w = (X^T X + \\frac{1}{C} I)^{-1} X^T y $$"
   ]
  },
  {
   "cell_type": "markdown",
   "metadata": {},
   "source": [
    "Задача 4.  Предсказываем вероятности.\n",
    "\n",
    "Когда говорят о логистической регрессии, произносят фразу, что она \"предсказывает вероятности положительного класса\". Давайте разберемся, что же за этим стоит. Посчитаем математическое ожидание функции потерь и проверим, что предсказание алгоритма, оптимизирующее это мат. ожидание, будет являться вероятностью положительного класса. \n",
    "\n",
    "И так, функция потерь на объекте $x_i$, который имеет метку $y_i \\in \\{0,1\\}$  для предсказания $a(x_i)$ равна:\n",
    "$$L(y_i, b) =-[y_i == 1] \\log a(x_i)  - [y_i == 0] \\log(1 - a(x_i)) $$\n",
    "\n",
    "Где $[]$ означает индикатор $-$ он равен единице, если значение внутри него истинно, иначе он равен нулю. Тогда мат. ожидание при условии конкретного $x_i$  по определение мат. ожидания дискретной случайной величины:\n",
    "$$E(L | x_i) = -p(y_i = 1 |x_i ) \\log a(x_i)  - p(y_i = 0 | x_i) \\log( 1 - a(x_i))$$\n",
    "* Докажите, что значение $a(x_i)$, минимизирующее данное мат. ожидание, в точности равно $p(y_i = 1 |x_i)$, то есть равно вероятности положительного класса.\n",
    "\n",
    "Подсказка: возможно, придется воспользоваться, что  $p(y_i = 1 | x_i) + p(y_i = 0 | x_i) = 1$\n",
    "\n",
    "***Решение***\n",
    "\n",
    "Так как классы бинарные, можно доказать, что порождающее распределение - Бернулли\n",
    "\n",
    "$$ \\frac {p(y_i = 1 | x_i)}{p(y_i = 0 | x_i)} = exp(a(x_i)) $$\n",
    "\n",
    "Пользуясь полной верятностью\n",
    "$$ p(y_i = 1 | x_i) + p(y_i = 0 | x_i) = 1 $$\n",
    "\n",
    "Получаем:\n",
    "\n",
    "$$ p(y_i = 1 | x_i) = \\frac {1}{1+exp(-a(x_i))} $$\n",
    "\n",
    "$$ p(y_i = 0 | x_i) = \\frac {1}{1+exp(a(x_i))} $$\n",
    "\n",
    "Но предсказание логистической регрессии:\n",
    "\n",
    "$$a(x_i, w) = \\frac{1}{1 + \\exp(-x_iw)}$$\n",
    "\n",
    "чтд"
   ]
  },
  {
   "cell_type": "markdown",
   "metadata": {},
   "source": [
    "#  Реализация линейной модели (5 баллов)"
   ]
  },
  {
   "cell_type": "markdown",
   "metadata": {},
   "source": [
    "## Зачем нужны батчи?\n"
   ]
  },
  {
   "cell_type": "markdown",
   "metadata": {},
   "source": [
    "Как Вы могли заметить из теоретического введения, что в случае SGD, что в случа mini-batch GD,  на каждой итерации обновление весов  происходит только по небольшой части данных (1 пример в случае SGD, batch примеров в случае mini-batch). То есть для каждой итерации нам *** не нужна вся выборка***. Мы можем просто итерироваться по выборке, беря батч нужного размера (далее 1 объект тоже будем называть батчом).\n",
    "\n",
    "Легко заметить, что в этом случае нам не нужно загружать все данные в оперативную память, достаточно просто считать батч с диска, обновить веса, считать диска другой батч и так далее. В целях упрощения домашней работы, прямо с диска  мы считывать не будем, будем работать с обычными numpy array. \n",
    "\n",
    "\n",
    "\n"
   ]
  },
  {
   "cell_type": "markdown",
   "metadata": {},
   "source": [
    "## Немножко про генераторы в Python\n",
    "\n"
   ]
  },
  {
   "cell_type": "markdown",
   "metadata": {},
   "source": [
    "Идея считывания данных кусками удачно ложится на так называемые ***генераторы*** из языка Python. В данной работе Вам предлагается не только разобраться с логистической регрессией, но  и познакомиться с таким важным элементом языка.  При желании Вы можете убрать весь код, связанный с генераторами, и реализовать логистическую регрессию и без них, ***штрафоваться это никак не будет***. Главное, чтобы сама модель была реализована правильно, и все пункты были выполнены. \n",
    "\n",
    "Подробнее можно почитать вот тут https://anandology.com/python-practice-book/iterators.html\n"
   ]
  },
  {
   "cell_type": "markdown",
   "metadata": {},
   "source": [
    "К генератору стоит относиться просто как к функции, которая порождает не один объект, а целую последовательность объектов. Новое значение из последовательности генерируется с помощью ключевого слова ***yield***. Ниже Вы можете насладиться  генератором чисел Фибоначчи."
   ]
  },
  {
   "cell_type": "code",
   "execution_count": 645,
   "metadata": {},
   "outputs": [],
   "source": [
    "def fib(max_iter=4):\n",
    "    a, b = 0, 1\n",
    "    iter_num = 0\n",
    "    while 1:\n",
    "        yield a\n",
    "        a, b = b, a + b\n",
    "        iter_num += 1\n",
    "        if iter_num == max_iter:\n",
    "            break"
   ]
  },
  {
   "cell_type": "markdown",
   "metadata": {},
   "source": [
    "Вот так можно сгенерировать последовательность Фибоначчи. \n",
    "\n",
    "Заметьте, что к генераторам можно применять некоторые стандартные функции из Python, например enumerate."
   ]
  },
  {
   "cell_type": "code",
   "execution_count": 646,
   "metadata": {
    "scrolled": true
   },
   "outputs": [
    {
     "name": "stdout",
     "output_type": "stream",
     "text": [
      "Fib num: 0 fib values: 0\n",
      "Fib num: 1 fib values: 1\n",
      "Fib num: 2 fib values: 1\n",
      "Fib num: 3 fib values: 2\n"
     ]
    }
   ],
   "source": [
    "new_generator = fib()\n",
    "for j, fib_val in enumerate(new_generator):\n",
    "    print (\"Fib num: \" + str(j) + \" fib values: \" + str(fib_val))"
   ]
  },
  {
   "cell_type": "markdown",
   "metadata": {},
   "source": [
    "Пересоздавая объект, можно сколько угодно раз генерировать заново последовательность. "
   ]
  },
  {
   "cell_type": "code",
   "execution_count": 647,
   "metadata": {},
   "outputs": [
    {
     "name": "stdout",
     "output_type": "stream",
     "text": [
      "Fib num: 0 fib values: 0\n",
      "Fib num: 1 fib values: 1\n",
      "Fib num: 2 fib values: 1\n",
      "Fib num: 3 fib values: 2\n",
      "Fib num: 0 fib values: 0\n",
      "Fib num: 1 fib values: 1\n",
      "Fib num: 2 fib values: 1\n",
      "Fib num: 3 fib values: 2\n",
      "Fib num: 0 fib values: 0\n",
      "Fib num: 1 fib values: 1\n",
      "Fib num: 2 fib values: 1\n",
      "Fib num: 3 fib values: 2\n"
     ]
    }
   ],
   "source": [
    "for i in range(0, 3):\n",
    "    new_generator = fib()\n",
    "    for j, fib_val in enumerate(new_generator):\n",
    "        print (\"Fib num: \" + str(j) + \" fib values: \" + str(fib_val))"
   ]
  },
  {
   "cell_type": "markdown",
   "metadata": {},
   "source": [
    "А вот так уже нельзя."
   ]
  },
  {
   "cell_type": "code",
   "execution_count": 648,
   "metadata": {},
   "outputs": [
    {
     "name": "stdout",
     "output_type": "stream",
     "text": [
      "Fib num: 0 fib values: 0\n",
      "Fib num: 1 fib values: 1\n",
      "Fib num: 2 fib values: 1\n",
      "Fib num: 3 fib values: 2\n"
     ]
    }
   ],
   "source": [
    "new_generator = fib()\n",
    "for i in range(0, 3):\n",
    "    for j, fib_val in enumerate(new_generator):\n",
    "        print (\"Fib num: \" + str(j) + \" fib values: \" + str(fib_val))"
   ]
  },
  {
   "cell_type": "markdown",
   "metadata": {},
   "source": [
    "Концепция крайне удобная для обучения  моделей $-$ у Вас есть некий источник данных, который Вам выдает их кусками, и Вам совершенно все равно откуда он их берет. Под ним может скрывать как массив в оперативной памяти, как файл на жестком диске, так и SQL база данных. Вы сами данные никуда не сохраняете, оперативную память экономите."
   ]
  },
  {
   "cell_type": "markdown",
   "metadata": {},
   "source": [
    "Если Вам понравилась идея с генераторами, то Вы можете реализовать свой, используя прототип batch_generator. В нем Вам нужно выдавать батчи признаков и ответов для каждой новой итерации спуска. Если не понравилась идея, то можете реализовывать SGD или mini-batch GD без генераторов."
   ]
  },
  {
   "cell_type": "code",
   "execution_count": 649,
   "metadata": {},
   "outputs": [],
   "source": [
    "def batch_generator(X, y, shuffle=True, batch_size=1):\n",
    "    \"\"\"\n",
    "    Гератор новых батчей для обучения\n",
    "    X          - матрица объекты-признаки\n",
    "    y_batch    - вектор ответов\n",
    "    shuffle    - нужно ли случайно перемешивать выборку\n",
    "    batch_size - размер батча ( 1 это SGD, > 1 mini-batch GD)\n",
    "    Генерирует подвыборку для итерации спуска (X_batch, y_batch)\n",
    "    \"\"\"\n",
    "    num_of_samples = len(X)\n",
    "    if shuffle:\n",
    "        idx = np.random.permutation(num_of_samples)\n",
    "    else:\n",
    "        idx = np.arange(num_of_samples)\n",
    "    \n",
    "    for i in range(0, num_of_samples - batch_size + 1, batch_size):\n",
    "        X_batch = X[idx[i: i + batch_size]]\n",
    "        y_batch = y[idx[i: i + batch_size]]\n",
    "        yield (X_batch, y_batch)\n",
    "\n",
    "# Теперь можно сделать генератор по данным ()\n",
    "#  my_batch_generator = batch_generator(X, y, shuffle=True, batch_size=1):"
   ]
  },
  {
   "cell_type": "code",
   "execution_count": 650,
   "metadata": {},
   "outputs": [],
   "source": [
    "#%%pycodestyle\n",
    "\n",
    "from scipy.special import expit\n",
    "\n",
    "def sigmoid(x):\n",
    "    \"\"\"\n",
    "    Вычисляем значение сигмоида.\n",
    "    X - выход линейной модели\n",
    "    \"\"\"\n",
    "    return expit(x)\n",
    "\n",
    "from sklearn.base import BaseEstimator, ClassifierMixin\n",
    "\n",
    "class MySGDClassifier(BaseEstimator, ClassifierMixin):\n",
    "    \n",
    "    def __init__(self, batch_generator, batch_size=1, C=1, alpha=0.001, max_epoch=10, model_type='lin_reg'):\n",
    "        \"\"\"\n",
    "        batch_generator -- функция генератор, которой будем создавать батчи\n",
    "        C - коэф. регуляризации\n",
    "        alpha - скорость спуска\n",
    "        max_epoch - максимальное количество эпох\n",
    "        model_type - тим модели, lin_reg или log_reg\n",
    "        \"\"\"\n",
    "        self.C = C\n",
    "        self.alpha = alpha\n",
    "        self.max_epoch = max_epoch\n",
    "        self.batch_generator = batch_generator\n",
    "        self.batch_size = batch_size\n",
    "        self.errors_log = {'iter' : [], 'loss' : []}  \n",
    "        self.model_type = model_type\n",
    "        \n",
    "    def calc_loss(self, X_batch, y_batch):\n",
    "        \"\"\"\n",
    "        Считаем функцию потерь по батчу \n",
    "        X_batch - матрица объекты-признаки по батчу\n",
    "        y_batch - вектор ответов по батчу\n",
    "        Не забудте тип модели (линейная или логистическая регрессия)!\n",
    "        \"\"\"\n",
    "        if self.model_type == \"lin_reg\":\n",
    "            hypothesis = np.dot(X_batch, self.weights)\n",
    "            loss = ((hypothesis - y_batch)**2).sum()/X_batch.shape[0] + np.sum(self.weights ** 2) / self.C\n",
    "            \n",
    "        elif self.model_type == \"log_reg\":\n",
    "            hypothesis = sigmoid(np.dot(X_batch, self.weights))\n",
    "            loss = (-y_batch*np.log(hypothesis) + (1-y_batch)*np.log(1-hypothesis)).sum()/X_batch.shape[0] + np.sum(self.weights ** 2) / self.C\n",
    "        \n",
    "        return loss\n",
    "    \n",
    "    def calc_loss_grad(self, X_batch, y_batch):\n",
    "        \"\"\"\n",
    "        Считаем  градиент функции потерь по батчу (то что Вы вывели в задании 1)\n",
    "        X_batch - матрица объекты-признаки по батчу\n",
    "        y_batch - вектор ответов по батчу\n",
    "        Не забудте тип модели (линейная или логистическая регрессия)!\n",
    "        \"\"\"\n",
    "        if self.model_type == \"lin_reg\":\n",
    "            hypothesis = np.dot(X_batch, self.weights)\n",
    "            loss_grad = 2 * np.dot(hypothesis - y_batch, X_batch)/X_batch.shape[0] + 2 * self.weights / self.C\n",
    "            \n",
    "        elif self.model_type == \"log_reg\":\n",
    "            hypothesis = sigmoid(np.dot(X_batch, self.weights))\n",
    "            loss_grad = np.dot(X_batch.T, hypothesis - y_batch) + 2 * self.weights / self.C\n",
    "            \n",
    "        return loss_grad\n",
    "    \n",
    "    def update_weights(self, new_grad):\n",
    "        \"\"\"\n",
    "        Обновляем вектор весов\n",
    "        new_grad - градиент по батчу\n",
    "        \"\"\"\n",
    "        self.weights -= self.alpha * new_grad\n",
    "    \n",
    "    def fit(self, X, y):\n",
    "        '''\n",
    "        Обучение модели\n",
    "        X - матрица объекты-признаки\n",
    "        y - вектор ответов\n",
    "        '''\n",
    "        # Нужно инициализировать случайно веса\n",
    "        X_ = np.insert(X, 0, 1, axis=1)\n",
    "        self.weights = np.random.randn(X_.shape[1])\n",
    "        \n",
    "        for n in range(0, self.max_epoch):\n",
    "            new_epoch_generator = self.batch_generator(X_, y, self.batch_size)\n",
    "            \n",
    "            for batch_num, new_batch in enumerate(new_epoch_generator):\n",
    "                X_batch = new_batch[0]\n",
    "                y_batch = new_batch[1]\n",
    "                \n",
    "                batch_grad = self.calc_loss_grad(X_batch, y_batch)\n",
    "                self.update_weights(batch_grad)\n",
    "                \n",
    "                # Подумайте в каком месте стоит посчитать ошибку для отладки модели\n",
    "                batch_loss = self.calc_loss(X_batch, y_batch)\n",
    "                self.errors_log['iter'].append(batch_num)\n",
    "                self.errors_log['loss'].append(batch_loss)\n",
    "                \n",
    "        return self\n",
    "    \n",
    "    def decision_boundary(self, prob):\n",
    "        return 1 if prob >= 0.5 else 0\n",
    "        \n",
    "    def predict(self, X):\n",
    "        '''\n",
    "        Предсказание класса\n",
    "        X - матрица объекты-признаки\n",
    "        Не забудте тип модели (линейная или логистическая регрессия)!\n",
    "        '''\n",
    "        X_ = np.insert(X, 0, 1, axis=1)\n",
    "        \n",
    "        # Желательно здесь использовать матричные операции между X и весами, например, numpy.dot \n",
    "        if self.model_type == \"lin_reg\":\n",
    "            y_hat = np.dot(X_, self.weights)\n",
    "        elif self.model_type == \"log_reg\":\n",
    "            y_hat = sigmoid(np.dot(X_, self.weights))\n",
    "            \n",
    "        decision_boundary = np.vectorize(self.decision_boundary)\n",
    "        y_hat = decision_boundary(y_hat).flatten()\n",
    "             \n",
    "        return y_hat"
   ]
  },
  {
   "cell_type": "markdown",
   "metadata": {},
   "source": [
    "Запустите обе регрессии на синтетических данных. \n",
    "\n",
    "\n",
    "Выведите полученные веса и нарисуйте разделяющую границу между классами (используйте только первых два веса для первых двух признаков X[:,0], X[:,1] для отображения в 2d пространство ).  "
   ]
  },
  {
   "cell_type": "code",
   "execution_count": 706,
   "metadata": {},
   "outputs": [],
   "source": [
    "def plot_decision_boundary(clf, name):\n",
    "    \n",
    "    axes = plt.gca()\n",
    "    x_vals = np.array(axes.get_xlim())\n",
    "    y_vals = -(clf.weights[0] - 1/2 + clf.weights[1] * x_vals)/clf.weights[2]\n",
    "    \n",
    "    plt.plot(x_vals, y_vals, label=name)\n",
    "    plt.legend()"
   ]
  },
  {
   "cell_type": "code",
   "execution_count": 735,
   "metadata": {},
   "outputs": [
    {
     "data": {
      "image/png": "[encoded data removed]",
      "text/plain": [
       "<Figure size 864x360 with 1 Axes>"
      ]
     },
     "metadata": {},
     "output_type": "display_data"
    }
   ],
   "source": [
    "np.random.seed(0)\n",
    "\n",
    "C1 = np.array([[0., -0.8], [1.5, 0.8]])\n",
    "C2 = np.array([[1., -0.7], [2., 0.7]])\n",
    "gauss1 = np.dot(np.random.randn(200, 2) + np.array([5, 3]), C1)\n",
    "gauss2 = np.dot(np.random.randn(200, 2) + np.array([1.5, 0]), C2)\n",
    "\n",
    "X = np.vstack([gauss1, gauss2])\n",
    "y = np.r_[np.ones(200), np.zeros(200)]\n",
    "\n",
    "plt.scatter(X[:,0], X[:,1], c=y)\n",
    "\n",
    "plt.ylim(np.amin(X[:,1]) - 1, np.amax(X[:,1]) + 1)\n",
    "plt.xlim(np.amin(X[:,0]) - 1, np.amax(X[:,0]) + 1)\n",
    "\n",
    "lin_clf = MySGDClassifier(batch_generator, alpha=0.001, max_epoch=10, model_type='lin_reg')\n",
    "lin_clf.fit(X, y)\n",
    "\n",
    "log_clf = MySGDClassifier(batch_generator, alpha=0.05, max_epoch=10, model_type='log_reg')\n",
    "log_clf.fit(X, y)\n",
    "\n",
    "plot_decision_boundary(lin_clf, 'lin_reg')\n",
    "plot_decision_boundary(log_clf, 'log_reg')"
   ]
  },
  {
   "cell_type": "markdown",
   "metadata": {},
   "source": [
    "Далее будем анализировать Ваш алгоритм. \n",
    "Для этих заданий используйте датасет ниже."
   ]
  },
  {
   "cell_type": "code",
   "execution_count": 300,
   "metadata": {},
   "outputs": [],
   "source": [
    "from sklearn.datasets import make_classification"
   ]
  },
  {
   "cell_type": "code",
   "execution_count": 301,
   "metadata": {},
   "outputs": [],
   "source": [
    "X, y = make_classification(n_samples=100000, n_features=10, \n",
    "                           n_informative=4, n_redundant=0, \n",
    "                           random_state=123, class_sep=1.0,\n",
    "                           n_clusters_per_class=1)"
   ]
  },
  {
   "cell_type": "markdown",
   "metadata": {},
   "source": [
    "Покажите сходимости обеих регрессией на этом датасете: изобразите график  функции потерь, усредненной по $N$ шагам градиентого спуска, для разных `alpha` (размеров шага). Разные `alpha` расположите на одном графике. \n",
    "\n",
    "$N$ можно брать 10, 50, 100 и т.д. "
   ]
  },
  {
   "cell_type": "code",
   "execution_count": 412,
   "metadata": {},
   "outputs": [
    {
     "data": {
      "text/plain": [
       "Text(0.5, 0.98, 'LINEAR REGRESSION')"
      ]
     },
     "execution_count": 412,
     "metadata": {},
     "output_type": "execute_result"
    },
    {
     "data": {
      "image/png": "[encoded data removed]",
      "text/plain": [
       "<Figure size 864x360 with 1 Axes>"
      ]
     },
     "metadata": {},
     "output_type": "display_data"
    }
   ],
   "source": [
    "scaler = StandardScaler()\n",
    "scaler.fit(X)\n",
    "scaler.transform(X)\n",
    "\n",
    "# init sequence\n",
    "n, alpha_0, multiplier = 3, 0.01, 0.1\n",
    "alpha_values = np.empty((n, ))\n",
    "alpha_values[0] = alpha_0\n",
    "alpha_values[1:] = multiplier\n",
    "\n",
    "fig = plt.figure()\n",
    "\n",
    "for alpha in np.cumprod(alpha_values):\n",
    "    \n",
    "    clf = MySGDClassifier(batch_generator, batch_size=100, alpha=alpha, max_epoch=10, model_type='lin_reg')\n",
    "    clf.fit(X, y)\n",
    "        \n",
    "    step = 50\n",
    "    steps = range(0, len(clf.errors_log['loss']), step)\n",
    "        \n",
    "    plt.plot(steps, [np.mean(clf.errors_log['loss'][:i + step]) for i in steps], label=\"alpha=\" + '{:.9}'.format(alpha))\n",
    "    plt.legend()\n",
    "\n",
    "fig.suptitle('LINEAR REGRESSION')"
   ]
  },
  {
   "cell_type": "code",
   "execution_count": 416,
   "metadata": {},
   "outputs": [
    {
     "data": {
      "text/plain": [
       "Text(0.5, 0.98, 'LOGISTIC REGRESSION')"
      ]
     },
     "execution_count": 416,
     "metadata": {},
     "output_type": "execute_result"
    },
    {
     "data": {
      "image/png": "[encoded data removed]",
      "text/plain": [
       "<Figure size 864x360 with 1 Axes>"
      ]
     },
     "metadata": {},
     "output_type": "display_data"
    }
   ],
   "source": [
    "scaler = StandardScaler()\n",
    "scaler.fit(X)\n",
    "scaler.transform(X)\n",
    "\n",
    "n, alpha_0, multiplier = 3, 0.01, 0.1\n",
    "alpha_values = np.empty((n, ))\n",
    "alpha_values[0] = alpha_0\n",
    "alpha_values[1:] = multiplier\n",
    "\n",
    "fig = plt.figure()\n",
    "\n",
    "for alpha in np.cumprod(alpha_values):\n",
    "    \n",
    "    clf = MySGDClassifier(batch_generator, batch_size=100, alpha=alpha, max_epoch=250, model_type='log_reg')\n",
    "    clf.fit(X, y)\n",
    "        \n",
    "    step = 50\n",
    "    steps = range(0, len(clf.errors_log['loss']), step)\n",
    "        \n",
    "    plt.plot(steps, [np.mean(clf.errors_log['loss'][:i + step]) for i in steps], label=\"alpha=\" + '{:.9}'.format(alpha))\n",
    "    plt.legend()\n",
    "\n",
    "fig.suptitle('LOGISTIC REGRESSION')"
   ]
  },
  {
   "cell_type": "markdown",
   "metadata": {},
   "source": [
    "Что Вы можете сказать про сходимость метода при различных `alpha`? Какое значение стоит выбирать для лучшей сходимости?"
   ]
  },
  {
   "cell_type": "markdown",
   "metadata": {},
   "source": [
    "Изобразите график среднего значения весов для обеих регрессий в зависимости от коеф. регуляризации С из `np.logspace(3, -3, 10)` "
   ]
  },
  {
   "cell_type": "code",
   "execution_count": 752,
   "metadata": {},
   "outputs": [
    {
     "data": {
      "text/plain": [
       "Text(0.5, 0.98, 'LINEAR REGRESSION')"
      ]
     },
     "execution_count": 752,
     "metadata": {},
     "output_type": "execute_result"
    },
    {
     "data": {
      "image/png": "[encoded data removed]",
      "text/plain": [
       "<Figure size 864x360 with 1 Axes>"
      ]
     },
     "metadata": {},
     "output_type": "display_data"
    }
   ],
   "source": [
    "weights = []\n",
    "\n",
    "fig = plt.figure()\n",
    "\n",
    "for C in np.logspace(2, -2, 10): \n",
    "    clf = MySGDClassifier(batch_generator, C=C, alpha=0.001, max_epoch=10, model_type='lin_reg')\n",
    "    clf.fit(X, y)\n",
    "    \n",
    "    weights.append(np.mean(clf.weights))\n",
    "    \n",
    "plt.plot(np.logspace(2, -2, 10), weights)\n",
    "fig.suptitle('LINEAR REGRESSION')\n"
   ]
  },
  {
   "cell_type": "code",
   "execution_count": 750,
   "metadata": {},
   "outputs": [
    {
     "data": {
      "text/plain": [
       "Text(0.5, 0.98, 'LOGISTIC REGRESSION')"
      ]
     },
     "execution_count": 750,
     "metadata": {},
     "output_type": "execute_result"
    },
    {
     "data": {
      "image/png": "[encoded data removed]",
      "text/plain": [
       "<Figure size 864x360 with 1 Axes>"
      ]
     },
     "metadata": {},
     "output_type": "display_data"
    }
   ],
   "source": [
    "weights = []\n",
    "\n",
    "fig = plt.figure()\n",
    "\n",
    "for C in np.logspace(2, -2, 10): \n",
    "    clf = MySGDClassifier(batch_generator, C=C, alpha=0.005, max_epoch=10, model_type='log_reg')\n",
    "    clf.fit(X, y)\n",
    "    \n",
    "    weights.append(clf.weights.mean())\n",
    "    \n",
    "plt.plot(np.logspace(2, -2, 10), weights)\n",
    "fig.suptitle('LOGISTIC REGRESSION')"
   ]
  },
  {
   "cell_type": "markdown",
   "metadata": {},
   "source": [
    "Довольны ли Вы, насколько сильно уменьшились Ваши веса? "
   ]
  },
  {
   "cell_type": "markdown",
   "metadata": {},
   "source": [
    "# Боевое применение (3  балла)"
   ]
  },
  {
   "cell_type": "markdown",
   "metadata": {},
   "source": [
    "Давайте применим модель на итоговом проекте! Датасет сделаем точно таким же образом, как было показано в project_overview-2.ipynb\n",
    "\n",
    "Применим обе регрессии, подберем для них параметры и сравним качество. Может быть Вы еще одновременно с решением домашней работы подрастете на лидерборде!"
   ]
  },
  {
   "cell_type": "code",
   "execution_count": 753,
   "metadata": {},
   "outputs": [
    {
     "name": "stdout",
     "output_type": "stream",
     "text": [
      "28026\n"
     ]
    }
   ],
   "source": [
    "doc_to_title = {}\n",
    "with open('docs_titles.tsv') as f:\n",
    "    for num_line, line in enumerate(f):\n",
    "        if num_line == 0:\n",
    "            continue\n",
    "        data = line.strip().split('\\t', 1)\n",
    "        doc_id = int(data[0])\n",
    "        if len(data) == 1:\n",
    "            title = ''\n",
    "        else:\n",
    "            title = data[1]\n",
    "        doc_to_title[doc_id] = title\n",
    "print (len(doc_to_title))"
   ]
  },
  {
   "cell_type": "code",
   "execution_count": 584,
   "metadata": {},
   "outputs": [],
   "source": [
    "import pandas as pd\n",
    "train_data = pd.read_csv('train_groups.csv')\n",
    "traingroups_titledata = {}\n",
    "for i in range(len(train_data)):\n",
    "    new_doc = train_data.iloc[i]\n",
    "    doc_group = new_doc['group_id']\n",
    "    doc_id = new_doc['doc_id']\n",
    "    target = new_doc['target']\n",
    "    title = doc_to_title[doc_id]\n",
    "    if doc_group not in traingroups_titledata:\n",
    "        traingroups_titledata[doc_group] = []\n",
    "    traingroups_titledata[doc_group].append((doc_id, title, target))"
   ]
  },
  {
   "cell_type": "code",
   "execution_count": 585,
   "metadata": {},
   "outputs": [
    {
     "name": "stdout",
     "output_type": "stream",
     "text": [
      "(11690, 15) (11690,) (11690,)\n"
     ]
    }
   ],
   "source": [
    "import numpy as np\n",
    "y_train = []\n",
    "X_train = []\n",
    "groups_train = []\n",
    "for new_group in traingroups_titledata:\n",
    "    docs = traingroups_titledata[new_group]\n",
    "    for k, (doc_id, title, target_id) in enumerate(docs):\n",
    "        y_train.append(target_id)\n",
    "        groups_train.append(new_group)\n",
    "        all_dist = []\n",
    "        words = set(title.strip().split())\n",
    "        for j in range(0, len(docs)):\n",
    "            if k == j:\n",
    "                continue\n",
    "            doc_id_j, title_j, target_j = docs[j]\n",
    "            words_j = set(title_j.strip().split())\n",
    "            all_dist.append(len(words.intersection(words_j)))\n",
    "        X_train.append(sorted(all_dist, reverse=True)[0:15]    )\n",
    "X_train = np.array(X_train)\n",
    "y_train = np.array(y_train)\n",
    "groups_train = np.array(groups_train)\n",
    "print (X_train.shape, y_train.shape, groups_train.shape)"
   ]
  },
  {
   "cell_type": "markdown",
   "metadata": {},
   "source": [
    "Подберите размер батча для обучения. Линейная модель не должна учиться дольше нескольких минут. \n",
    "\n",
    "Не забывайте использовать скейлер!"
   ]
  },
  {
   "cell_type": "code",
   "execution_count": 586,
   "metadata": {},
   "outputs": [],
   "source": [
    "from sklearn.metrics import f1_score\n",
    "from sklearn.linear_model import LinearRegression\n",
    "from sklearn.preprocessing import StandardScaler\n",
    "import time"
   ]
  },
  {
   "cell_type": "code",
   "execution_count": 587,
   "metadata": {},
   "outputs": [
    {
     "name": "stdout",
     "output_type": "stream",
     "text": [
      "4.838282108306885\n",
      "4.761638879776001\n",
      "4.81718111038208\n",
      "4.738568067550659\n",
      "4.890166759490967\n"
     ]
    }
   ],
   "source": [
    "batch_size = [1, 10, 100, 1000, 10000]\n",
    "for i in batch_size:\n",
    "    lin_clf = MySGDClassifier(batch_generator=batch_generator, batch_size=i, model_type='lin_reg')\n",
    "    start = time.time()\n",
    "    \n",
    "    lin_clf.fit(X_train, y_train)\n",
    "    \n",
    "    curent_time = time.time()\n",
    "    print(curent_time - start)"
   ]
  },
  {
   "cell_type": "code",
   "execution_count": 559,
   "metadata": {},
   "outputs": [
    {
     "name": "stdout",
     "output_type": "stream",
     "text": [
      "6.177885055541992\n",
      "6.494820833206177\n",
      "6.443211078643799\n",
      "5.914830923080444\n",
      "5.739692687988281\n"
     ]
    }
   ],
   "source": [
    "batch_size = [1, 10, 100, 1000, 10000]\n",
    "for i in batch_size:\n",
    "    log_clf = MySGDClassifier(batch_generator=batch_generator, batch_size=i, model_type='log_reg')\n",
    "    start = time.time()\n",
    "    \n",
    "    log_clf.fit(X_train, y_train)\n",
    "    \n",
    "    curent_time = time.time()\n",
    "    print(curent_time - start)"
   ]
  },
  {
   "cell_type": "markdown",
   "metadata": {},
   "source": [
    "Разбейте данные на обучение и валидацию. Подберите параметры C, alpha, max_epoch, model_type на валидации (Вы же помните, как правильно в этой задаче делать валидацию?)"
   ]
  },
  {
   "cell_type": "code",
   "execution_count": 759,
   "metadata": {},
   "outputs": [
    {
     "name": "stdout",
     "output_type": "stream",
     "text": [
      "(10521,) (10521, 15)\n"
     ]
    }
   ],
   "source": [
    "from sklearn.model_selection import train_test_split\n",
    "\n",
    "X_train, X_test, y_train, y_test = train_test_split(X_train, y_train, test_size=0.1, stratify=y_train)\n",
    "print(y_train.shape, X_train.shape)"
   ]
  },
  {
   "cell_type": "code",
   "execution_count": 760,
   "metadata": {},
   "outputs": [
    {
     "name": "stdout",
     "output_type": "stream",
     "text": [
      "0.24550898203592814 C = 1\n",
      "0.223267750213858 C = 10\n",
      "0.21129170230966637 C = 100\n",
      "0.2857142857142857 C = 1000\n",
      "0.2275449101796407 C = 10000\n"
     ]
    }
   ],
   "source": [
    "import scipy\n",
    "C = [1, 10, 100, 1000, 10000]\n",
    "for i in C:\n",
    "    lin_clf = MySGDClassifier(batch_generator=batch_generator, batch_size=10, C=i, model_type='lin_reg')\n",
    "    start = time.time()\n",
    "    \n",
    "    lin_clf.fit(X_train, y_train)\n",
    "    \n",
    "    curent_time = time.time()\n",
    "    print(scipy.spatial.distance.cityblock(lin_clf.predict(X_test), y_test)/(y_test.shape[0]), 'C =', i)"
   ]
  },
  {
   "cell_type": "code",
   "execution_count": 761,
   "metadata": {},
   "outputs": [
    {
     "name": "stdout",
     "output_type": "stream",
     "text": [
      "0.3045337895637297 C = 1\n"
     ]
    },
    {
     "name": "stderr",
     "output_type": "stream",
     "text": [
      "/usr/local/lib/python3.7/site-packages/ipykernel_launcher.py:47: RuntimeWarning: divide by zero encountered in log\n",
      "/usr/local/lib/python3.7/site-packages/ipykernel_launcher.py:47: RuntimeWarning: invalid value encountered in multiply\n"
     ]
    },
    {
     "name": "stdout",
     "output_type": "stream",
     "text": [
      "0.21129170230966637 C = 10\n",
      "0.22583404619332764 C = 100\n",
      "0.20958083832335328 C = 1000\n",
      "0.20273738237810093 C = 10000\n"
     ]
    }
   ],
   "source": [
    "for i in C:\n",
    "    log_clf = MySGDClassifier(batch_generator=batch_generator, batch_size=10, C=i, model_type='log_reg')\n",
    "    start = time.time()\n",
    "    \n",
    "    log_clf.fit(X_train, y_train)\n",
    "    \n",
    "    curent_time = time.time()\n",
    "    print(scipy.spatial.distance.cityblock(log_clf.predict(X_test), y_test)/(y_test.shape[0]), 'C =', i)"
   ]
  },
  {
   "cell_type": "code",
   "execution_count": 604,
   "metadata": {},
   "outputs": [
    {
     "name": "stdout",
     "output_type": "stream",
     "text": [
      "0.20512820512820512 epoch = 10\n",
      "0.21367521367521367 epoch = 50\n",
      "0.24121557454890788 epoch = 100\n"
     ]
    }
   ],
   "source": [
    "max_e = [10, 50, 100]\n",
    "for i in max_e:\n",
    "    lin_clf = MySGDClassifier(batch_generator=batch_generator, batch_size=10, max_epoch=i, model_type='lin_reg')\n",
    "    start = time.time()\n",
    "    lin_clf.fit(X_train, y_train)\n",
    "    curent_time = time.time()\n",
    "    print(scipy.spatial.distance.cityblock(lr.predict(X_test), y_test)/(y_test.shape[0]), 'epoch =', i)"
   ]
  },
  {
   "cell_type": "code",
   "execution_count": 763,
   "metadata": {},
   "outputs": [
    {
     "name": "stdout",
     "output_type": "stream",
     "text": [
      "0.2369546621043627 epoch = 10\n",
      "0.21642429426860565 epoch = 50\n",
      "0.21642429426860565 epoch = 100\n"
     ]
    }
   ],
   "source": [
    "for i in max_e:\n",
    "    log_clf = MySGDClassifier(batch_generator=batch_generator, batch_size=10, C=10000, max_epoch=i, model_type='log_reg')\n",
    "    start = time.time()\n",
    "    log_clf.fit(X_train, y_train)\n",
    "    curent_time = time.time()\n",
    "    print(scipy.spatial.distance.cityblock(log_clf.predict(X_test), y_test)/(y_test.shape[0]), 'epoch =', i)"
   ]
  },
  {
   "cell_type": "code",
   "execution_count": 606,
   "metadata": {},
   "outputs": [
    {
     "name": "stderr",
     "output_type": "stream",
     "text": [
      "/usr/local/lib/python3.7/site-packages/ipykernel_launcher.py:43: RuntimeWarning: overflow encountered in square\n",
      "/usr/local/lib/python3.7/site-packages/ipykernel_launcher.py:60: RuntimeWarning: overflow encountered in multiply\n",
      "/usr/local/lib/python3.7/site-packages/ipykernel_launcher.py:73: RuntimeWarning: invalid value encountered in subtract\n"
     ]
    },
    {
     "name": "stdout",
     "output_type": "stream",
     "text": [
      "0.28774928774928776 alpha = 0.1\n"
     ]
    },
    {
     "name": "stderr",
     "output_type": "stream",
     "text": [
      "/Users/daviddavitadze/Library/Python/3.7/lib/python/site-packages/numpy/core/fromnumeric.py:86: RuntimeWarning: overflow encountered in reduce\n",
      "  return ufunc.reduce(obj, axis, dtype, out, **passkwargs)\n"
     ]
    },
    {
     "name": "stdout",
     "output_type": "stream",
     "text": [
      "0.28774928774928776 alpha = 0.01\n",
      "0.22317188983855651 alpha = 0.001\n",
      "0.2184235517568851 alpha = 0.0001\n"
     ]
    }
   ],
   "source": [
    "alpha = [0.1, 0.01, 0.001, 0.0001]\n",
    "for i in alpha:\n",
    "    lin_clf = MySGDClassifier(batch_generator=batch_generator, batch_size=10, alpha=i, model_type='lin_reg')\n",
    "    start = time.time()\n",
    "    lin_clf.fit(X_train, y_train)\n",
    "    curent_time = time.time()\n",
    "    print(scipy.spatial.distance.cityblock(lin_clf.predict(X_test), y_test)/(y_test.shape[0]), 'alpha =', i)"
   ]
  },
  {
   "cell_type": "code",
   "execution_count": 764,
   "metadata": {},
   "outputs": [
    {
     "name": "stderr",
     "output_type": "stream",
     "text": [
      "/usr/local/lib/python3.7/site-packages/ipykernel_launcher.py:47: RuntimeWarning: divide by zero encountered in log\n",
      "/usr/local/lib/python3.7/site-packages/ipykernel_launcher.py:47: RuntimeWarning: invalid value encountered in multiply\n"
     ]
    },
    {
     "name": "stdout",
     "output_type": "stream",
     "text": [
      "0.30795551753635586 alpha = 0.1\n",
      "0.21642429426860565 alpha = 0.01\n",
      "0.20530367835757057 alpha = 0.001\n",
      "0.4798973481608212 alpha = 0.0001\n"
     ]
    }
   ],
   "source": [
    "alpha = [0.1, 0.01, 0.001, 0.0001]\n",
    "for i in alpha:\n",
    "    log_clf = MySGDClassifier(batch_generator=batch_generator, batch_size=10, C=10000, max_epoch=10, alpha=i, model_type='log_reg')\n",
    "    start = time.time()\n",
    "    log_clf.fit(X_train, y_train)\n",
    "    curent_time = time.time()\n",
    "    print(scipy.spatial.distance.cityblock(log_clf.predict(X_test), y_test)/(y_test.shape[0]), 'alpha =', i)\n",
    "    \n",
    "    #optimal lin reg param: C = 1000, alpha = 0.01, max_e = 100\n",
    "    #optimal log reg param: C = 1, alpha = 0.1, max_e = 100"
   ]
  },
  {
   "cell_type": "code",
   "execution_count": 765,
   "metadata": {},
   "outputs": [
    {
     "name": "stdout",
     "output_type": "stream",
     "text": [
      "(11690, 15) (11690,) (11690,)\n"
     ]
    }
   ],
   "source": [
    "y_train = []\n",
    "X_train = []\n",
    "groups_train = []\n",
    "for new_group in traingroups_titledata:\n",
    "    docs = traingroups_titledata[new_group]\n",
    "    for k, (doc_id, title, target_id) in enumerate(docs):\n",
    "        y_train.append(target_id)\n",
    "        groups_train.append(new_group)\n",
    "        all_dist = []\n",
    "        words = set(title.strip().split())\n",
    "        for j in range(0, len(docs)):\n",
    "            if k == j:\n",
    "                continue\n",
    "            doc_id_j, title_j, target_j = docs[j]\n",
    "            words_j = set(title_j.strip().split())\n",
    "            all_dist.append(len(words.intersection(words_j)))\n",
    "        X_train.append(sorted(all_dist, reverse=True)[0:15]    )\n",
    "X_train = np.array(X_train)\n",
    "y_train = np.array(y_train)\n",
    "groups_train = np.array(groups_train)\n",
    "print (X_train.shape, y_train.shape, groups_train.shape)"
   ]
  },
  {
   "cell_type": "code",
   "execution_count": 766,
   "metadata": {},
   "outputs": [],
   "source": [
    "import pandas as pd\n",
    "test_data = pd.read_csv('test_groups.csv')\n",
    "test_titledata = {}\n",
    "for i in range(len(test_data)):\n",
    "    new_doc = test_data.iloc[i]\n",
    "    doc_pair = new_doc['pair_id']\n",
    "    doc_group = new_doc['group_id']\n",
    "    doc_id = new_doc['doc_id']\n",
    "    title = doc_to_title[doc_id]\n",
    "    if doc_group not in test_titledata:\n",
    "        test_titledata[doc_group] = []\n",
    "    test_titledata[doc_group].append((doc_id, title, doc_pair))"
   ]
  },
  {
   "cell_type": "code",
   "execution_count": 785,
   "metadata": {},
   "outputs": [
    {
     "name": "stdout",
     "output_type": "stream",
     "text": [
      "(16627, 15) (16627,) (16627,)\n"
     ]
    }
   ],
   "source": [
    "X_test = []\n",
    "pair = []\n",
    "groups_test = []\n",
    "for new_group in test_titledata:\n",
    "    docs = test_titledata[new_group]\n",
    "    for k, (doc_id, title, doc_pair) in enumerate(docs):\n",
    "        groups_test.append(new_group)\n",
    "        all_dist = []\n",
    "        words = set(title.strip().split())\n",
    "        for j in range(0, len(docs)):\n",
    "            if k == j:\n",
    "                continue\n",
    "            doc_id_j, title_j, target_j = docs[j]\n",
    "            words_j = set(title_j.strip().split())\n",
    "            all_dist.append(len(words.intersection(words_j)))\n",
    "        X_test.append(sorted(all_dist, reverse=True)[0:15]    )\n",
    "        pair.append(doc_pair)\n",
    "X_test = np.array(X_test)\n",
    "groups_test = np.array(groups_test)\n",
    "pair = np.array(pair)\n",
    "print (X_test.shape, groups_test.shape, pair.shape)"
   ]
  },
  {
   "cell_type": "code",
   "execution_count": 789,
   "metadata": {},
   "outputs": [],
   "source": [
    "lr = MySGDClassifier(batch_generator=batch_generator, batch_size=10, C=1, alpha=0.001, max_epoch=10, model_type='lin_reg')\n",
    "lr.fit(X_train, y_train)\n",
    "ans = lr.predict(X_test)\n",
    "\n",
    "ans = np.concatenate((pair.reshape(pair.shape[0], -1), ans.reshape(pair.shape[0], -1)), axis=1)"
   ]
  },
  {
   "cell_type": "code",
   "execution_count": 790,
   "metadata": {},
   "outputs": [],
   "source": [
    "ans = pd.DataFrame(data=ans, dtype=int)\n",
    "ans.columns = ['pair_id', 'target']"
   ]
  },
  {
   "cell_type": "code",
   "execution_count": 791,
   "metadata": {},
   "outputs": [],
   "source": [
    "ans.to_csv('answer_linreg.csv', sep=',', encoding='utf-8', index=False)"
   ]
  },
  {
   "cell_type": "markdown",
   "metadata": {},
   "source": [
    "С лучшими параметрами на валидации сделайте предсказание на тестовом множестве, отправьте его на проверку на платформу kaggle. Убедитесь, что Вы смогли побить public score первого бейзлайна. Если да, то Вы молодец!"
   ]
  },
  {
   "cell_type": "markdown",
   "metadata": {},
   "source": [
    "# Контрольные вопросы\n",
    "Постарайтесь максимально развернуто и честно ответить на вопросы. Они охватывают тему линейных моделей и скорее нужны преподавателям, чтобы понимать, что именно Вы усвоили плохо. Надеюсь, они подскажут, что именно в теме Вы не понимаете или наоборот порадают, что Вы все знаете ^_^"
   ]
  },
  {
   "cell_type": "markdown",
   "metadata": {},
   "source": [
    "* Опишите основные, на Ваш взгляд,  отличия логистической регрессии от линейной регрессии. Почему, на ваш взгляд, задачу классификации решают логистической, а не линейной регрессией?"
   ]
  },
  {
   "cell_type": "markdown",
   "metadata": {},
   "source": [
    "***Ваше ответ здесь***\n",
    "Потому что логистическая регрессия выдает число от 0 до 1, что легче интерпретировать как вероятность"
   ]
  },
  {
   "cell_type": "markdown",
   "metadata": {},
   "source": [
    "* Как Вы думаете, для каких типов задач (объем данных, число признаков, типы признаков) стоит отдавать предпочтение линейным моделям?"
   ]
  },
  {
   "cell_type": "markdown",
   "metadata": {},
   "source": [
    "***Ваше ответ здесь***\n",
    "Для задач с большим объемом данных и однотипными признаками, так как мы можем использовать стохастическую оптимизацию"
   ]
  },
  {
   "cell_type": "markdown",
   "metadata": {},
   "source": [
    "* Пусть на обучении мы имеем выборку размера $N$, число признаков $D$. Чему равна алгоритмическая сложность одного шага градиентного спуска? Cтохастического градиентного спуска?  Сложность предсказания на одном объекте?"
   ]
  },
  {
   "cell_type": "markdown",
   "metadata": {},
   "source": [
    "***Ваше ответ здесь***\n",
    "1) D*N\n",
    "2) D\n",
    "3) D"
   ]
  },
  {
   "cell_type": "markdown",
   "metadata": {},
   "source": [
    "* В чем преимущества стохастического градиентного спуска (в том числе мини-батч) над обычным градиентным спуском? В чем его недостатки? Рассмотрите несколько аспектов $-$ скорость сходимости, необходимость загрузки всех данных в оперативную память, сложность вычисления одного шага."
   ]
  },
  {
   "cell_type": "markdown",
   "metadata": {},
   "source": [
    "***Ваше ответ здесь***\n",
    "Теряя в точности, мы получаем возможность загружать не все данные в оперативную память и быстрее вычисляем градиент на каждом шаге"
   ]
  },
  {
   "cell_type": "markdown",
   "metadata": {},
   "source": [
    "* Как Вы думаете, при обучении линейной модели с помощью SGD, ошибку на новом объекте стоит считать до итерации спуска на этом объекте или после? Почему Вы так думаете? Возможно, Вам будет интересно ознакомиться с http://hunch.net/~jl/projects/prediction_bounds/thesis/mathml/thesisse44.xml"
   ]
  },
  {
   "cell_type": "markdown",
   "metadata": {},
   "source": [
    "***Ваше ответ здесь*** В приницпе, разницы нет, но если бы мы хотели останавливатся после того, как ошибка уменьшается меньше, чем на какую то величину, то считать нужно было бы после"
   ]
  },
  {
   "cell_type": "markdown",
   "metadata": {},
   "source": [
    "* Как Вы думаете, во времена такого бума нейронных сетей, остаются ли популярными линейные модели, или это уже пережиток прошлого? Почему Вы так думаете?"
   ]
  },
  {
   "cell_type": "markdown",
   "metadata": {},
   "source": [
    "***Ваше ответ здесь*** Да, остаются, потому что их результат легко интерпретировать, а иногда, кажется, это важнее чем точность. И для задач, которые решаются достаточно точно линейными моделями, нет смысла использовать нейронные сети"
   ]
  },
  {
   "cell_type": "markdown",
   "metadata": {},
   "source": [
    "* Какие аспекты обучения линейных моделей Вам показались непонятными? Какое место стоит дополнительно объяснить?"
   ]
  },
  {
   "cell_type": "markdown",
   "metadata": {},
   "source": [
    "***Ваше ответ здесь***"
   ]
  },
  {
   "cell_type": "markdown",
   "metadata": {},
   "source": [
    "Здесь Вы можете оставить отзыв о этой домашней работе или о всем курсе.   "
   ]
  },
  {
   "cell_type": "markdown",
   "metadata": {},
   "source": [
    "*** ВАШ ОТЗЫВ ЗДЕСЬ*** Курс очень классный"
   ]
  },
  {
   "cell_type": "code",
   "execution_count": null,
   "metadata": {
    "collapsed": true
   },
   "outputs": [],
   "source": []
  },
  {
   "cell_type": "code",
   "execution_count": null,
   "metadata": {
    "collapsed": true
   },
   "outputs": [],
   "source": []
  }
 ],
 "metadata": {
  "anaconda-cloud": {},
  "kernelspec": {
   "display_name": "Python 3",
   "language": "python",
   "name": "python3"
  },
  "language_info": {
   "codemirror_mode": {
    "name": "ipython",
    "version": 3
   },
   "file_extension": ".py",
   "mimetype": "text/x-python",
   "name": "python",
   "nbconvert_exporter": "python",
   "pygments_lexer": "ipython3",
   "version": "3.7.2"
  },
  "nav_menu": {},
  "toc": {
   "colors": {
    "hover_highlight": "#DAA520",
    "navigate_num": "#000000",
    "navigate_text": "#333333",
    "running_highlight": "#FF0000",
    "selected_highlight": "#FFD700",
    "sidebar_border": "#EEEEEE",
    "wrapper_background": "#FFFFFF"
   },
   "moveMenuLeft": true,
   "nav_menu": {
    "height": "402px",
    "width": "253px"
   },
   "navigate_menu": true,
   "number_sections": false,
   "sideBar": true,
   "threshold": 4,
   "toc_cell": false,
   "toc_section_display": "block",
   "toc_window_display": true,
   "widenNotebook": false
  }
 },
 "nbformat": 4,
 "nbformat_minor": 2
}
